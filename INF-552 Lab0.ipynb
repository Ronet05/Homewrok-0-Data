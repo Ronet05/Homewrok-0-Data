{
 "cells": [
  {
   "cell_type": "markdown",
   "metadata": {},
   "source": [
    "<center><h1>INF-552 Lab 0</h1></center>\n",
    "<br>\n",
    "<center><font size=\"4\">Introduction to Basic Development Tools</font></center>"
   ]
  },
  {
   "cell_type": "markdown",
   "metadata": {},
   "source": [
    "### Rules"
   ]
  },
  {
   "cell_type": "markdown",
   "metadata": {},
   "source": [
    "1. Please read the instructions and problem prompts **carefully**.\n",
    "2. This lab is to give you some basic APIs of numpy, pandas and scikit-learn. Besides, some topics such as how to make your jupyter notebook be a more efficient developing tools, how to use git and GitHub will also be covered. The lab is to be done individually. You may talk to your fellow classmates about general issues (\"Remind me again: Which API should I used for doing group by operation to a data set\") but about the specifies of how to do these exercises.\n",
    "3. Along with a similar vein, you can ask the TA for help, but ask questions about **concepts** but not ask the TA to help you debug your code. The TA is here to help, but not to do the work for you.\n",
    "4. You are welcome to use the class resources and the Internet.\n",
    "5. Playing with variations. Solve one problems, and then copy the code to a new cell and play around with it. Doing this is the single most important thing when learning programming.\n",
    "6. This lab will not be graded but the content is highly related to your future programming assignments. So, treat it wisely.\n",
    "7. All the content having been gone though in the week 1 discussion is just a snapshot of the most basic concepts. **You need to keep study more about Git, GitHub, Pandas, Numpy and Scikit-Learn in order to finish your programming assignments successfully.**\n",
    "8. Have fun!"
   ]
  },
  {
   "cell_type": "markdown",
   "metadata": {},
   "source": [
    "### Setup Development Environment"
   ]
  },
  {
   "cell_type": "markdown",
   "metadata": {},
   "source": [
    "There are many ways to setup the environment. But, I do recommend a simple idea that is using the Anaconda, which is a pre-build python environment with bundles of useful packages.\n",
    "\n",
    "**To download the Anaconda, go to the following website:\n",
    "https://www.anaconda.com/distribution/**. Download the correct version based on your operating system and install it step by step.\n",
    "\n",
    "Then, **configure your PATH environment variable** to make the conda command work. The following command is an easy way to test whether your configuration is correct. If it is, you will see something as like as the sample output.\n",
    "\n",
    "> **command:**\n",
    ">\n",
    "> conda --version\n",
    ">\n",
    "> **sample output:**\n",
    ">\n",
    "> conda 4.6.12\n",
    "\n",
    "**Finally, download this jupyter notebook file,** then change the working directory to where its location in terminal, and type the following command to open the jupter notebook and finish the lab.\n",
    "\n",
    "> **command:** \n",
    "> jupyter notebook"
   ]
  },
  {
   "cell_type": "code",
   "execution_count": 2,
   "metadata": {
    "ExecuteTime": {
     "end_time": "2020-01-14T19:44:42.243800Z",
     "start_time": "2020-01-14T19:44:41.609555Z"
    }
   },
   "outputs": [],
   "source": [
    "import pandas as pd\n",
    "import numpy as np"
   ]
  },
  {
   "cell_type": "markdown",
   "metadata": {},
   "source": [
    "### Pandas"
   ]
  },
  {
   "cell_type": "markdown",
   "metadata": {},
   "source": [
    "#### The read_csv() Method"
   ]
  },
  {
   "cell_type": "markdown",
   "metadata": {},
   "source": [
    "First, read the documentation about the *read_csv()* method in Pandas (https://pandas.pydata.org/pandas-docs/stable/reference/api/pandas.read_csv.html). Then, try to read data from file Salaries.csv to a dataframe, make the column playerID in the csv file as the index column and the first row as the header. Also, skip the second row when reading the file."
   ]
  },
  {
   "cell_type": "code",
   "execution_count": 26,
   "metadata": {
    "ExecuteTime": {
     "end_time": "2019-08-28T03:51:17.953542Z",
     "start_time": "2019-08-28T03:51:17.937799Z"
    }
   },
   "outputs": [
    {
     "data": {
      "text/html": [
       "<div>\n",
       "<style scoped>\n",
       "    .dataframe tbody tr th:only-of-type {\n",
       "        vertical-align: middle;\n",
       "    }\n",
       "\n",
       "    .dataframe tbody tr th {\n",
       "        vertical-align: top;\n",
       "    }\n",
       "\n",
       "    .dataframe thead th {\n",
       "        text-align: right;\n",
       "    }\n",
       "</style>\n",
       "<table border=\"1\" class=\"dataframe\">\n",
       "  <thead>\n",
       "    <tr style=\"text-align: right;\">\n",
       "      <th></th>\n",
       "      <th>yearID</th>\n",
       "      <th>teamID</th>\n",
       "      <th>lgID</th>\n",
       "      <th>salary</th>\n",
       "    </tr>\n",
       "    <tr>\n",
       "      <th>playerID</th>\n",
       "      <th></th>\n",
       "      <th></th>\n",
       "      <th></th>\n",
       "      <th></th>\n",
       "    </tr>\n",
       "  </thead>\n",
       "  <tbody>\n",
       "    <tr>\n",
       "      <th>bedrost01</th>\n",
       "      <td>1985</td>\n",
       "      <td>ATL</td>\n",
       "      <td>NL</td>\n",
       "      <td>550000</td>\n",
       "    </tr>\n",
       "    <tr>\n",
       "      <th>benedbr01</th>\n",
       "      <td>1985</td>\n",
       "      <td>ATL</td>\n",
       "      <td>NL</td>\n",
       "      <td>545000</td>\n",
       "    </tr>\n",
       "    <tr>\n",
       "      <th>campri01</th>\n",
       "      <td>1985</td>\n",
       "      <td>ATL</td>\n",
       "      <td>NL</td>\n",
       "      <td>633333</td>\n",
       "    </tr>\n",
       "    <tr>\n",
       "      <th>ceronri01</th>\n",
       "      <td>1985</td>\n",
       "      <td>ATL</td>\n",
       "      <td>NL</td>\n",
       "      <td>625000</td>\n",
       "    </tr>\n",
       "    <tr>\n",
       "      <th>chambch01</th>\n",
       "      <td>1985</td>\n",
       "      <td>ATL</td>\n",
       "      <td>NL</td>\n",
       "      <td>800000</td>\n",
       "    </tr>\n",
       "  </tbody>\n",
       "</table>\n",
       "</div>"
      ],
      "text/plain": [
       "           yearID teamID lgID  salary\n",
       "playerID                             \n",
       "bedrost01    1985    ATL   NL  550000\n",
       "benedbr01    1985    ATL   NL  545000\n",
       "campri01     1985    ATL   NL  633333\n",
       "ceronri01    1985    ATL   NL  625000\n",
       "chambch01    1985    ATL   NL  800000"
      ]
     },
     "execution_count": 26,
     "metadata": {},
     "output_type": "execute_result"
    }
   ],
   "source": [
    "data = pd.read_csv(\"Salaries.csv\", index_col=\"playerID\", skiprows=[1])\n",
    "data.head()"
   ]
  },
  {
   "cell_type": "markdown",
   "metadata": {},
   "source": [
    "#### Indexing and Selecting Data"
   ]
  },
  {
   "cell_type": "markdown",
   "metadata": {},
   "source": [
    "Select the id of the players who are registered in ATL and HOU and whose salary is higher than one million."
   ]
  },
  {
   "cell_type": "code",
   "execution_count": 38,
   "metadata": {
    "ExecuteTime": {
     "end_time": "2019-08-28T03:51:24.015061Z",
     "start_time": "2019-08-28T03:51:23.982621Z"
    }
   },
   "outputs": [
    {
     "data": {
      "text/plain": [
       "595"
      ]
     },
     "execution_count": 38,
     "metadata": {},
     "output_type": "execute_result"
    }
   ],
   "source": [
    "atl_hou_filter_data = data[((data[\"teamID\"] == \"ATL\") | (data[\"teamID\"] == \"HOU\")) & (data[\"salary\"]>1000000)]\n",
    "len(atl_hou_filter_data)"
   ]
  },
  {
   "cell_type": "markdown",
   "metadata": {},
   "source": [
    "#### The describe() Method"
   ]
  },
  {
   "cell_type": "markdown",
   "metadata": {},
   "source": [
    "Calculate the standard Deviation, first quartile, medium, third quartile, mean, maximum, minimum of the salary in team ATL."
   ]
  },
  {
   "cell_type": "code",
   "execution_count": 41,
   "metadata": {
    "ExecuteTime": {
     "end_time": "2019-08-28T01:46:27.395276Z",
     "start_time": "2019-08-28T01:46:27.368849Z"
    }
   },
   "outputs": [
    {
     "data": {
      "text/html": [
       "<div>\n",
       "<style scoped>\n",
       "    .dataframe tbody tr th:only-of-type {\n",
       "        vertical-align: middle;\n",
       "    }\n",
       "\n",
       "    .dataframe tbody tr th {\n",
       "        vertical-align: top;\n",
       "    }\n",
       "\n",
       "    .dataframe thead th {\n",
       "        text-align: right;\n",
       "    }\n",
       "</style>\n",
       "<table border=\"1\" class=\"dataframe\">\n",
       "  <thead>\n",
       "    <tr style=\"text-align: right;\">\n",
       "      <th></th>\n",
       "      <th>yearID</th>\n",
       "      <th>salary</th>\n",
       "    </tr>\n",
       "  </thead>\n",
       "  <tbody>\n",
       "    <tr>\n",
       "      <th>count</th>\n",
       "      <td>885.000000</td>\n",
       "      <td>8.850000e+02</td>\n",
       "    </tr>\n",
       "    <tr>\n",
       "      <th>mean</th>\n",
       "      <td>1999.725424</td>\n",
       "      <td>2.207749e+06</td>\n",
       "    </tr>\n",
       "    <tr>\n",
       "      <th>std</th>\n",
       "      <td>8.766470</td>\n",
       "      <td>3.434320e+06</td>\n",
       "    </tr>\n",
       "    <tr>\n",
       "      <th>min</th>\n",
       "      <td>1985.000000</td>\n",
       "      <td>6.000000e+04</td>\n",
       "    </tr>\n",
       "    <tr>\n",
       "      <th>25%</th>\n",
       "      <td>1992.000000</td>\n",
       "      <td>3.000000e+05</td>\n",
       "    </tr>\n",
       "    <tr>\n",
       "      <th>50%</th>\n",
       "      <td>1999.000000</td>\n",
       "      <td>6.000000e+05</td>\n",
       "    </tr>\n",
       "    <tr>\n",
       "      <th>75%</th>\n",
       "      <td>2007.000000</td>\n",
       "      <td>2.400000e+06</td>\n",
       "    </tr>\n",
       "    <tr>\n",
       "      <th>max</th>\n",
       "      <td>2015.000000</td>\n",
       "      <td>1.606180e+07</td>\n",
       "    </tr>\n",
       "  </tbody>\n",
       "</table>\n",
       "</div>"
      ],
      "text/plain": [
       "            yearID        salary\n",
       "count   885.000000  8.850000e+02\n",
       "mean   1999.725424  2.207749e+06\n",
       "std       8.766470  3.434320e+06\n",
       "min    1985.000000  6.000000e+04\n",
       "25%    1992.000000  3.000000e+05\n",
       "50%    1999.000000  6.000000e+05\n",
       "75%    2007.000000  2.400000e+06\n",
       "max    2015.000000  1.606180e+07"
      ]
     },
     "execution_count": 41,
     "metadata": {},
     "output_type": "execute_result"
    }
   ],
   "source": [
    "atl_data = data[data[\"teamID\"] == \"ATL\"]\n",
    "atl_data.describe()"
   ]
  },
  {
   "cell_type": "markdown",
   "metadata": {},
   "source": [
    "#### The iterrows() Method"
   ]
  },
  {
   "cell_type": "markdown",
   "metadata": {},
   "source": [
    "Create a Python dictionary object whose keys are the headers of the dataframe created in the read_csv() exercise and values are Python list objects that contain data corresponding to the headers. (Here, use the iterrows method to iterate each row of the dataframe and copy it to a dictionary. However, there is a easier way. Learn how the to_dict() method works by yourself later)"
   ]
  },
  {
   "cell_type": "code",
   "execution_count": 60,
   "metadata": {
    "ExecuteTime": {
     "end_time": "2019-08-28T03:51:38.476575Z",
     "start_time": "2019-08-28T03:51:36.568044Z"
    }
   },
   "outputs": [
    {
     "ename": "IndexError",
     "evalue": "index 1985 is out of bounds for axis 0 with size 4",
     "output_type": "error",
     "traceback": [
      "\u001b[0;31m---------------------------------------------------------------------------\u001b[0m",
      "\u001b[0;31mIndexError\u001b[0m                                Traceback (most recent call last)",
      "Input \u001b[0;32mIn [60]\u001b[0m, in \u001b[0;36m<cell line: 4>\u001b[0;34m()\u001b[0m\n\u001b[1;32m      3\u001b[0m iterrow_dict \u001b[38;5;241m=\u001b[39m {}\n\u001b[1;32m      4\u001b[0m \u001b[38;5;28;01mfor\u001b[39;00m index, row \u001b[38;5;129;01min\u001b[39;00m data\u001b[38;5;241m.\u001b[39miterrows():\n\u001b[0;32m----> 5\u001b[0m     \u001b[43mrow\u001b[49m\u001b[38;5;241;43m.\u001b[39;49m\u001b[43mindex\u001b[49m\u001b[43m[\u001b[49m\u001b[43mrow\u001b[49m\u001b[43m[\u001b[49m\u001b[38;5;124;43m\"\u001b[39;49m\u001b[38;5;124;43myearID\u001b[39;49m\u001b[38;5;124;43m\"\u001b[39;49m\u001b[43m]\u001b[49m\u001b[43m]\u001b[49m\n\u001b[1;32m      6\u001b[0m     \u001b[38;5;28;01mbreak\u001b[39;00m\n",
      "File \u001b[0;32m~/opt/miniconda3/envs/ml_hw/lib/python3.10/site-packages/pandas/core/indexes/base.py:5039\u001b[0m, in \u001b[0;36mIndex.__getitem__\u001b[0;34m(self, key)\u001b[0m\n\u001b[1;32m   5036\u001b[0m \u001b[38;5;28;01mif\u001b[39;00m is_integer(key) \u001b[38;5;129;01mor\u001b[39;00m is_float(key):\n\u001b[1;32m   5037\u001b[0m     \u001b[38;5;66;03m# GH#44051 exclude bool, which would return a 2d ndarray\u001b[39;00m\n\u001b[1;32m   5038\u001b[0m     key \u001b[38;5;241m=\u001b[39m com\u001b[38;5;241m.\u001b[39mcast_scalar_indexer(key, warn_float\u001b[38;5;241m=\u001b[39m\u001b[38;5;28;01mTrue\u001b[39;00m)\n\u001b[0;32m-> 5039\u001b[0m     \u001b[38;5;28;01mreturn\u001b[39;00m \u001b[43mgetitem\u001b[49m\u001b[43m(\u001b[49m\u001b[43mkey\u001b[49m\u001b[43m)\u001b[49m\n\u001b[1;32m   5041\u001b[0m \u001b[38;5;28;01mif\u001b[39;00m \u001b[38;5;28misinstance\u001b[39m(key, \u001b[38;5;28mslice\u001b[39m):\n\u001b[1;32m   5042\u001b[0m     \u001b[38;5;66;03m# This case is separated from the conditional above to avoid\u001b[39;00m\n\u001b[1;32m   5043\u001b[0m     \u001b[38;5;66;03m# pessimization com.is_bool_indexer and ndim checks.\u001b[39;00m\n\u001b[1;32m   5044\u001b[0m     result \u001b[38;5;241m=\u001b[39m getitem(key)\n",
      "\u001b[0;31mIndexError\u001b[0m: index 1985 is out of bounds for axis 0 with size 4"
     ]
    }
   ],
   "source": [
    "# loop through each row using iterrows\n",
    "\n",
    "iterrow_dict = {}\n",
    "for index, row in data.iterrows():\n",
    "    row.index[row[\"yearID\"]]\n",
    "    break"
   ]
  },
  {
   "cell_type": "code",
   "execution_count": 55,
   "metadata": {},
   "outputs": [
    {
     "data": {
      "text/plain": [
       "Index(['yearID', 'teamID', 'lgID', 'salary'], dtype='object')"
      ]
     },
     "execution_count": 55,
     "metadata": {},
     "output_type": "execute_result"
    }
   ],
   "source": [
    "data.columns"
   ]
  },
  {
   "cell_type": "code",
   "execution_count": 52,
   "metadata": {},
   "outputs": [],
   "source": [
    "# using to_dict() on the dataframe\n",
    "\n",
    "easier_dict = data.to_dict()"
   ]
  },
  {
   "cell_type": "code",
   "execution_count": 56,
   "metadata": {},
   "outputs": [
    {
     "data": {
      "text/plain": [
       "{'bedrost01': 1995,\n",
       " 'benedbr01': 1989,\n",
       " 'campri01': 1986,\n",
       " 'ceronri01': 1992,\n",
       " 'chambch01': 1986,\n",
       " 'dedmoje01': 1988,\n",
       " 'forstte01': 1986,\n",
       " 'garbege01': 1988,\n",
       " 'harpete01': 1987,\n",
       " 'hornebo01': 1988,\n",
       " 'hubbagl01': 1988,\n",
       " 'mahleri01': 1990,\n",
       " 'mcmurcr01': 1995,\n",
       " 'mumphje01': 1988,\n",
       " 'murphda05': 1993,\n",
       " 'oberkke01': 1991,\n",
       " 'perezpa01': 1991,\n",
       " 'perryge01': 1995,\n",
       " 'ramirra01': 1992,\n",
       " 'suttebr01': 1990,\n",
       " 'washicl01': 1990,\n",
       " 'boddimi01': 1993,\n",
       " 'dauerri01': 1985,\n",
       " 'davisst02': 1994,\n",
       " 'dempsri01': 1992,\n",
       " 'dwyerji01': 1990,\n",
       " 'flanami01': 1992,\n",
       " 'fordda01': 1986,\n",
       " 'grosswa01': 1986,\n",
       " 'lacyle01': 1987,\n",
       " 'lynnfr01': 1990,\n",
       " 'martide01': 1998,\n",
       " 'martiti01': 1986,\n",
       " 'mcgresc01': 1988,\n",
       " 'murraed02': 1997,\n",
       " 'nolanjo01': 1985,\n",
       " 'rayfofl01': 1987,\n",
       " 'ripkeca01': 2001,\n",
       " 'roeniga01': 1988,\n",
       " 'sheetla01': 1990,\n",
       " 'shelbjo01': 1991,\n",
       " 'stewasa01': 1987,\n",
       " 'youngmi01': 1989,\n",
       " 'armasto01': 1989,\n",
       " 'barrema02': 1990,\n",
       " 'boggswa01': 1999,\n",
       " 'bordiri01': 1986,\n",
       " 'boydoi01': 1991,\n",
       " 'bucknbi01': 1989,\n",
       " 'clearma01': 1988,\n",
       " 'clemero02': 2005,\n",
       " 'crawfst01': 1990,\n",
       " 'easlemi01': 1987,\n",
       " 'evansdw01': 1991,\n",
       " 'gedmari01': 1992,\n",
       " 'gutieja01': 1986,\n",
       " 'hoffmgl01': 1989,\n",
       " 'hurstbr01': 1993,\n",
       " 'juraked01': 1985,\n",
       " 'kisonbr01': 1985,\n",
       " 'milleri01': 1985,\n",
       " 'nichore01': 1987,\n",
       " 'nippeal01': 1988,\n",
       " 'ojedabo01': 1993,\n",
       " 'remyje01': 1985,\n",
       " 'riceji01': 1989,\n",
       " 'stanlbo01': 1988,\n",
       " 'staplda01': 1986,\n",
       " 'beniqju01': 1988,\n",
       " 'boonebo01': 1990,\n",
       " 'burleri01': 1987,\n",
       " 'candejo01': 1993,\n",
       " 'carewro01': 1985,\n",
       " 'clibust02': 1985,\n",
       " 'corbedo01': 1986,\n",
       " 'decindo01': 1987,\n",
       " 'downibr01': 1992,\n",
       " 'forscke01': 1986,\n",
       " 'grichbo01': 1986,\n",
       " 'hendrge01': 1988,\n",
       " 'hollaal01': 1987,\n",
       " 'jacksre01': 1987,\n",
       " 'jonesru01': 1987,\n",
       " 'lacorfr01': 1985,\n",
       " 'mccaski01': 1996,\n",
       " 'mooredo01': 1988,\n",
       " 'pettiga01': 1993,\n",
       " 'romanro01': 1986,\n",
       " 'sanchlu01': 1985,\n",
       " 'schofdi02': 1996,\n",
       " 'sconida01': 1985,\n",
       " 'slatoji01': 1986,\n",
       " 'suttodo01': 1988,\n",
       " 'wilforo01': 1986,\n",
       " 'wittmi01': 1993,\n",
       " 'zahnge01': 1985,\n",
       " 'agostju01': 1992,\n",
       " 'baineha01': 2001,\n",
       " 'bannifl01': 1992,\n",
       " 'burnsbr01': 1986,\n",
       " 'cruzju01': 1986,\n",
       " 'dotsori01': 1990,\n",
       " 'fiskca01': 1992,\n",
       " 'fletcsc01': 1995,\n",
       " 'guilloz01': 1999,\n",
       " 'hairsje01': 1986,\n",
       " 'hillma01': 1987,\n",
       " 'jamesbo01': 1987,\n",
       " 'kittlro01': 1990,\n",
       " 'lawru01': 1987,\n",
       " 'lollati01': 1986,\n",
       " 'nelsoge01': 1992,\n",
       " 'pacioto01': 1986,\n",
       " 'salazlu01': 1992,\n",
       " 'seaveto01': 1986,\n",
       " 'spillda01': 1985,\n",
       " 'walkegr01': 1989,\n",
       " 'bosleth01': 1990,\n",
       " 'brusswa01': 1986,\n",
       " 'ceyro01': 1987,\n",
       " 'davisjo02': 1990,\n",
       " 'dernibo01': 1989,\n",
       " 'durhale01': 1989,\n",
       " 'eckerde01': 1998,\n",
       " 'fontera01': 1986,\n",
       " 'frazige01': 1986,\n",
       " 'hebneri01': 1986,\n",
       " 'lopesda01': 1987,\n",
       " 'matthga01': 1986,\n",
       " 'morelke01': 1989,\n",
       " 'ruthvdi01': 1986,\n",
       " 'sandbry01': 1997,\n",
       " 'sandesc01': 1996,\n",
       " 'smithle02': 1997,\n",
       " 'sorenla01': 1985,\n",
       " 'speiech01': 1989,\n",
       " 'sutclri01': 1994,\n",
       " 'troutst01': 1988,\n",
       " 'woodsga01': 1986,\n",
       " 'bellbu01': 1988,\n",
       " 'brownto05': 1995,\n",
       " 'conceda01': 1988,\n",
       " 'foleyto02': 1995,\n",
       " 'francjo01': 2005,\n",
       " 'humeto01': 1987,\n",
       " 'krencwa01': 1986,\n",
       " 'mcgafan01': 1990,\n",
       " 'milneed01': 1987,\n",
       " 'oestero01': 1990,\n",
       " 'parkeda01': 1991,\n",
       " 'pastofr01': 1986,\n",
       " 'perezto01': 1986,\n",
       " 'powerte01': 1994,\n",
       " 'pricejo02': 1990,\n",
       " 'redusga01': 1994,\n",
       " 'rosepe01': 1986,\n",
       " 'sotoma01': 1988,\n",
       " 'stupejo01': 1985,\n",
       " 'tibbsja01': 1990,\n",
       " 'vangoda01': 1986,\n",
       " 'venabma01': 2010,\n",
       " 'ayalabe01': 1985,\n",
       " 'bandoch01': 1988,\n",
       " 'bernato01': 1991,\n",
       " 'blylebe01': 1992,\n",
       " 'butlebr01': 1997,\n",
       " 'camacer01': 1990,\n",
       " 'cartejo01': 1998,\n",
       " 'easteja01': 1987,\n",
       " 'fischmi01': 1986,\n",
       " 'francju01': 2007,\n",
       " 'garlawa01': 1986,\n",
       " 'hallme01': 1996,\n",
       " 'hargrmi01': 1985,\n",
       " 'heatone01': 1993,\n",
       " 'jacobbr01': 1992,\n",
       " 'ruhleve01': 1986,\n",
       " 'tablepa01': 1992,\n",
       " 'thornan01': 1988,\n",
       " 'vukovge01': 1985,\n",
       " 'waddeto01': 1986,\n",
       " 'berenju01': 1992,\n",
       " 'bergmda01': 1992,\n",
       " 'brookto01': 1990,\n",
       " 'castima02': 1985,\n",
       " 'evansda01': 1989,\n",
       " 'gibsoki01': 1995,\n",
       " 'grubbjo01': 1987,\n",
       " 'hernawi01': 1989,\n",
       " 'herndla01': 1988,\n",
       " 'lapoida01': 1990,\n",
       " 'lemonch01': 1990,\n",
       " 'lopezau01': 1986,\n",
       " 'morrija02': 1994,\n",
       " 'parrila02': 1995,\n",
       " 'petryda01': 1991,\n",
       " 'scherbi01': 1985,\n",
       " 'terrewa01': 1992,\n",
       " 'trammal01': 1996,\n",
       " 'whitalo01': 1995,\n",
       " 'wilcomi01': 1986,\n",
       " 'ashbyal01': 1988,\n",
       " 'basske01': 1995,\n",
       " 'cabelen01': 1986,\n",
       " 'cruzjo01': 1988,\n",
       " 'davisgl01': 1993,\n",
       " 'dawlebi01': 1987,\n",
       " 'dipinfr01': 1993,\n",
       " 'doranbi02': 1993,\n",
       " 'garneph01': 1988,\n",
       " 'kneppbo01': 1989,\n",
       " 'morenom01': 1987,\n",
       " 'niekrjo01': 1988,\n",
       " 'puhlte01': 1990,\n",
       " 'reynocr01': 1989,\n",
       " 'ryanno01': 1993,\n",
       " 'scottmi03': 1991,\n",
       " 'smithda02': 1993,\n",
       " 'spilmha01': 1989,\n",
       " 'thondi01': 1993,\n",
       " 'wallide01': 1992,\n",
       " 'balbost01': 1990,\n",
       " 'beckwjo01': 1986,\n",
       " 'blackbu02': 1995,\n",
       " 'brettge01': 1993,\n",
       " 'conceon01': 1985,\n",
       " 'gubicma01': 1997,\n",
       " 'jacksda02': 1997,\n",
       " 'jonesly01': 1986,\n",
       " 'jonesmi02': 1985,\n",
       " 'lampde01': 1991,\n",
       " 'leibrch01': 1993,\n",
       " 'leonade01': 1986,\n",
       " 'mcraeha01': 1986,\n",
       " 'motleda01': 1987,\n",
       " 'ortajo01': 1986,\n",
       " 'pryorgr01': 1986,\n",
       " 'quiseda01': 1990,\n",
       " 'saberbr01': 2001,\n",
       " 'sheripa01': 1989,\n",
       " 'sundbji01': 1989,\n",
       " 'wathajo01': 1986,\n",
       " 'wilsowi02': 1994,\n",
       " 'bailobo01': 1986,\n",
       " 'brockgr01': 1991,\n",
       " 'diazca01': 1985,\n",
       " 'duncama01': 1997,\n",
       " 'goltzda01': 1985,\n",
       " 'guerrpe01': 1992,\n",
       " 'hershor01': 2000,\n",
       " 'honeyri01': 1997,\n",
       " 'johnsja01': 1985,\n",
       " 'landrke01': 1987,\n",
       " 'maldoca01': 1995,\n",
       " 'marshmi02': 1991,\n",
       " 'niedeto01': 1990,\n",
       " 'oliveal01': 1985,\n",
       " 'penaal01': 1997,\n",
       " 'reussje01': 1989,\n",
       " 'russebi01': 1986,\n",
       " 'saxst01': 1995,\n",
       " 'sciosmi01': 1993,\n",
       " 'valenfe01': 1997,\n",
       " 'welchbo01': 1994,\n",
       " 'whitfte01': 1985,\n",
       " 'yeagest01': 1986,\n",
       " 'anderal02': 1991,\n",
       " 'brunato01': 1994,\n",
       " 'bushra01': 1993,\n",
       " 'butchjo01': 1986,\n",
       " 'castijo01': 1985,\n",
       " 'davisro02': 1986,\n",
       " 'engleda01': 1988,\n",
       " 'filsope01': 1987,\n",
       " 'gaettga01': 2000,\n",
       " 'hatchmi01': 1990,\n",
       " 'hrbekke01': 1994,\n",
       " 'laudnti01': 1990,\n",
       " 'puckeki01': 1997,\n",
       " 'salasma01': 1991,\n",
       " 'schroke01': 1987,\n",
       " 'smallro02': 1986,\n",
       " 'smithmi03': 1990,\n",
       " 'teufeti01': 1993,\n",
       " 'violafr01': 1995,\n",
       " 'burrira01': 1987,\n",
       " 'coopece01': 1987,\n",
       " 'darwida01': 1998,\n",
       " 'fingero01': 1985,\n",
       " 'gantnji01': 1992,\n",
       " 'haasmo01': 1987,\n",
       " 'higuete01': 1994,\n",
       " 'housepa02': 1985,\n",
       " 'manniri01': 1987,\n",
       " 'mcclubo01': 1993,\n",
       " 'molitpa01': 1998,\n",
       " 'moorech02': 1987,\n",
       " 'oglivbe01': 1986,\n",
       " 'romered01': 1990,\n",
       " 'schrobi01': 1990,\n",
       " 'simmote01': 1988,\n",
       " 'vuckope01': 1985,\n",
       " 'waitsri01': 1985,\n",
       " 'yountro01': 1993,\n",
       " 'brookhu01': 1994,\n",
       " 'dawsoan01': 1996,\n",
       " 'dilonmi01': 1985,\n",
       " 'fishebr01': 1989,\n",
       " 'flynndo01': 1986,\n",
       " 'francte01': 1990,\n",
       " 'gullibi01': 1994,\n",
       " 'lawva01': 1991,\n",
       " 'leach01': 1988,\n",
       " 'lucasga01': 1987,\n",
       " 'nicosst01': 1985,\n",
       " 'palmeda01': 1988,\n",
       " 'raineti01': 2002,\n",
       " 'reardje01': 1994,\n",
       " 'roberbe01': 1986,\n",
       " 'schatda01': 1991,\n",
       " 'smithbr01': 1993,\n",
       " 'wallati01': 1996,\n",
       " 'washiul01': 1987,\n",
       " 'wohlfji01': 1986,\n",
       " 'baylodo01': 1988,\n",
       " 'berrada01': 1987,\n",
       " 'bystrma01': 1985,\n",
       " 'cowlejo01': 1986,\n",
       " 'griffke01': 1990,\n",
       " 'guidrro01': 1988,\n",
       " 'hassero01': 1990,\n",
       " 'henderi01': 2002,\n",
       " 'kempst01': 1987,\n",
       " 'mattido01': 1995,\n",
       " 'meachbo01': 1988,\n",
       " 'montejo01': 1986,\n",
       " 'niekrph01': 1986,\n",
       " 'randowi01': 1992,\n",
       " 'righeda01': 1995,\n",
       " 'samplbi01': 1986,\n",
       " 'shirlbo01': 1986,\n",
       " 'whitsed01': 1991,\n",
       " 'winfida01': 1995,\n",
       " 'wynegbu01': 1988,\n",
       " 'backmwa01': 1992,\n",
       " 'berenbr01': 1985,\n",
       " 'bowala01': 1985,\n",
       " 'cartega01': 1992,\n",
       " 'darliro01': 1995,\n",
       " 'fostege01': 1986,\n",
       " 'gardero01': 1985,\n",
       " 'goodedw01': 2000,\n",
       " 'gormato03': 1985,\n",
       " 'heepda01': 1990,\n",
       " 'hernake01': 1991,\n",
       " 'johnsho01': 1995,\n",
       " 'knighra01': 1988,\n",
       " 'lynched01': 1987,\n",
       " 'mcdowro01': 1996,\n",
       " 'oroscje01': 2003,\n",
       " 'santara01': 1990,\n",
       " 'siskdo01': 1988,\n",
       " 'staubru01': 1985,\n",
       " 'strawda01': 1998,\n",
       " 'wilsomo01': 1991,\n",
       " 'atherke01': 1988,\n",
       " 'bakerdu01': 1986,\n",
       " 'birtsti01': 1990,\n",
       " 'bochtbr01': 1986,\n",
       " 'codirch01': 1986,\n",
       " 'collida02': 1989,\n",
       " 'davismi02': 1989,\n",
       " 'griffal01': 1993,\n",
       " 'heathmi02': 1991,\n",
       " 'hendest01': 1987,\n",
       " 'howelja01': 1994,\n",
       " 'johnto01': 1988,\n",
       " 'kingmda01': 1986,\n",
       " 'langfri01': 1986,\n",
       " 'lansfca01': 1992,\n",
       " 'mccatst01': 1985,\n",
       " 'murphdw01': 1989,\n",
       " 'norrimi01': 1990,\n",
       " 'phillto02': 1999,\n",
       " 'picciro01': 1985,\n",
       " 'tellmto01': 1985,\n",
       " 'aguaylu01': 1989,\n",
       " 'anderla02': 1994,\n",
       " 'carltst01': 1988,\n",
       " 'corcoti01': 1986,\n",
       " 'dennyjo01': 1986,\n",
       " 'diazbo01': 1989,\n",
       " 'grossgr01': 1988,\n",
       " 'grosske01': 1996,\n",
       " 'hayesvo01': 1992,\n",
       " 'hudsoch02': 1989,\n",
       " 'kniceal01': 1986,\n",
       " 'koosmje01': 1985,\n",
       " 'lefebjo01': 1985,\n",
       " 'maddoga01': 1985,\n",
       " 'rawlesh01': 1990,\n",
       " 'ruckeda01': 1985,\n",
       " 'samueju01': 1998,\n",
       " 'schmimi01': 1988,\n",
       " 'virgioz02': 1990,\n",
       " 'almonbi01': 1988,\n",
       " 'deleojo01': 1995,\n",
       " 'guantce01': 1990,\n",
       " 'hasslan01': 1985,\n",
       " 'lezcasi01': 1986,\n",
       " 'madlobi01': 1987,\n",
       " 'mazzile01': 1989,\n",
       " 'mcwilla01': 1990,\n",
       " 'morriji01': 1988,\n",
       " 'orsuljo01': 1997,\n",
       " 'penato01': 1997,\n",
       " 'rayjo01': 1990,\n",
       " 'reuscri01': 1991,\n",
       " 'rhoderi01': 1989,\n",
       " 'robindo01': 1992,\n",
       " 'scurrro01': 1987,\n",
       " 'tekulke01': 1988,\n",
       " 'thompja01': 1987,\n",
       " 'tunnele01': 1987,\n",
       " 'bevacku01': 1985,\n",
       " 'brownbo04': 1985,\n",
       " 'bumbral01': 1985,\n",
       " 'draveda01': 1989,\n",
       " 'flannti01': 1989,\n",
       " 'garvest01': 1987,\n",
       " 'gossari01': 1993,\n",
       " 'gwynnto01': 2001,\n",
       " 'hawkian01': 1991,\n",
       " 'hoytla01': 1986,\n",
       " 'jacksro03': 1986,\n",
       " 'kennete02': 1991,\n",
       " 'leffecr01': 1994,\n",
       " 'martica01': 1991,\n",
       " 'mcreyke01': 1994,\n",
       " 'nettlgr01': 1988,\n",
       " 'roystje01': 1988,\n",
       " 'shower01': 1991,\n",
       " 'stoddti01': 1988,\n",
       " 'templga01': 1991,\n",
       " 'thurmma01': 1989,\n",
       " 'wiggial01': 1987,\n",
       " 'beattji01': 1992,\n",
       " 'bonneba01': 1985,\n",
       " 'bradlph01': 1992,\n",
       " 'cowenal01': 1986,\n",
       " 'davisal01': 1992,\n",
       " 'hendeda01': 1994,\n",
       " 'kearnbo01': 1986,\n",
       " 'langsma01': 1999,\n",
       " 'mooremi01': 1995,\n",
       " 'nunezed01': 1994,\n",
       " 'owensp01': 1995,\n",
       " 'percoja01': 1986,\n",
       " 'phelpke01': 1990,\n",
       " 'preslji01': 1991,\n",
       " 'thomago01': 1986,\n",
       " 'vandeed01': 1987,\n",
       " 'youngma01': 1992,\n",
       " 'ziskri01': 1987,\n",
       " 'bluevi01': 1986,\n",
       " 'brenlbo01': 1989,\n",
       " 'brownch02': 1988,\n",
       " 'davisch01': 1999,\n",
       " 'davisma01': 1994,\n",
       " 'driesda01': 1987,\n",
       " 'garresc01': 1992,\n",
       " 'gladdda01': 1993,\n",
       " 'gottji01': 1995,\n",
       " 'greenda03': 1985,\n",
       " 'hammaat01': 1991,\n",
       " 'krukomi01': 1989,\n",
       " 'laskebi01': 1985,\n",
       " 'lemasjo01': 1986,\n",
       " 'leonaje01': 1990,\n",
       " 'mintogr01': 1990,\n",
       " 'thompsc01': 1986,\n",
       " 'trevial01': 1990,\n",
       " 'trillma01': 1988,\n",
       " 'youngjo02': 1989,\n",
       " 'allenne01': 1989,\n",
       " 'andujjo01': 1988,\n",
       " 'braunst01': 1985,\n",
       " 'campbbi02': 1986,\n",
       " 'cedence01': 1986,\n",
       " 'clarkja01': 1993,\n",
       " 'colemvi01': 1997,\n",
       " 'coxda01': 1995,\n",
       " 'dayleke01': 1993,\n",
       " 'dejesiv01': 1985,\n",
       " 'forscbo01': 1989,\n",
       " 'harpebr01': 1994,\n",
       " 'herrto01': 1991,\n",
       " 'hortori01': 1990,\n",
       " 'jorgemi01': 1985,\n",
       " 'kepshku01': 1985,\n",
       " 'lahtije01': 1987,\n",
       " 'landrti01': 1988,\n",
       " 'mcgeewi01': 1999,\n",
       " 'pendlte01': 1998,\n",
       " 'porteda02': 1986,\n",
       " 'smithlo01': 1994,\n",
       " 'smithoz01': 1996,\n",
       " 'tudorjo01': 1990,\n",
       " 'vanslan01': 1995,\n",
       " 'bannial01': 1985,\n",
       " 'harrato01': 1986,\n",
       " 'hootobu01': 1986,\n",
       " 'houghch01': 1994,\n",
       " 'johnscl01': 1986,\n",
       " 'jonesbo02': 1985,\n",
       " 'mcdowod01': 1990,\n",
       " 'nolesdi01': 1987,\n",
       " 'obriepe03': 1993,\n",
       " 'parrila01': 1988,\n",
       " 'rozemda01': 1986,\n",
       " 'schmida01': 1990,\n",
       " 'slaugdo01': 1996,\n",
       " 'steinbi02': 1985,\n",
       " 'stewada01': 1995,\n",
       " 'tananfr01': 1993,\n",
       " 'tollewa01': 1990,\n",
       " 'walkedu01': 1985,\n",
       " 'wardga01': 1990,\n",
       " 'wrighge03': 1985,\n",
       " 'ackerji01': 1992,\n",
       " 'alexado01': 1989,\n",
       " 'barfije01': 1992,\n",
       " 'bellge02': 1993,\n",
       " 'burroje01': 1985,\n",
       " 'caudibi01': 1987,\n",
       " 'clancji01': 1990,\n",
       " 'fernato01': 2001,\n",
       " 'garcida01': 1990,\n",
       " 'henketo01': 1995,\n",
       " 'iorgga01': 1987,\n",
       " 'keyji01': 1998,\n",
       " 'lavelga01': 1987,\n",
       " 'martibu01': 1986,\n",
       " 'matusle01': 1987,\n",
       " 'mosebll01': 1991,\n",
       " 'mullira01': 1992,\n",
       " 'stiebda01': 1998,\n",
       " 'upshawi01': 1988,\n",
       " 'whitter01': 1990,\n",
       " 'assenpa01': 1999,\n",
       " 'barkele01': 1988,\n",
       " 'johnsjo05': 1988,\n",
       " 'olwined01': 1988,\n",
       " 'smithza01': 1996,\n",
       " 'speckcl01': 1986,\n",
       " 'thomaan01': 1990,\n",
       " 'aasedo01': 1989,\n",
       " 'bonilju01': 1986,\n",
       " 'dixonke01': 1987,\n",
       " 'havenbr01': 1988,\n",
       " 'jonesod01': 1986,\n",
       " 'stefejo01': 1986,\n",
       " 'trabeji01': 1989,\n",
       " 'brownmi01': 1986,\n",
       " 'gardnwe01': 1991,\n",
       " 'greenmi01': 1996,\n",
       " 'quinore01': 1988,\n",
       " 'sambijo01': 1987,\n",
       " 'schirca01': 1990,\n",
       " 'sullima02': 1986,\n",
       " 'trujimi01': 1986,\n",
       " 'finlech01': 2002,\n",
       " 'howelja02': 1999,\n",
       " 'joynewa01': 2001,\n",
       " 'narroje01': 1986,\n",
       " 'whitede03': 2001,\n",
       " 'bonilbo01': 2001,\n",
       " 'bostoda01': 1994,\n",
       " 'bradlsc01': 1992,\n",
       " 'cangejo01': 1998,\n",
       " 'gilesbr01': 1986,\n",
       " 'huletti01': 1994,\n",
       " 'karkoro01': 1997,\n",
       " 'mckeojo01': 1987,\n",
       " 'mormaru01': 1995,\n",
       " 'skinnjo01': 1993,\n",
       " 'squirmi01': 1986,\n",
       " 'thigpbo01': 1994,\n",
       " 'dunstsh01': 2002,\n",
       " 'gumpeda01': 1986,\n",
       " 'keougma02': 1986,\n",
       " 'lakest01': 1993,\n",
       " 'martimi01': 1986,\n",
       " 'moyerja01': 2012,\n",
       " 'butersa01': 1987,\n",
       " 'danieka01': 1992,\n",
       " 'daviser01': 2001,\n",
       " 'esaskni01': 1992,\n",
       " 'jonestr01': 1991,\n",
       " 'landrbi01': 1992,\n",
       " 'larkiba01': 2004,\n",
       " 'murphro01': 1995,\n",
       " 'robinro01': 1992,\n",
       " 'stillku01': 1996,\n",
       " 'welshch01': 1986,\n",
       " 'willica01': 1994,\n",
       " 'allanan01': 1995,\n",
       " 'bailesc01': 1998,\n",
       " 'candito01': 1999,\n",
       " 'castica01': 1991,\n",
       " 'kernji01': 1986,\n",
       " 'mullifr01': 1986,\n",
       " 'nixonot01': 1999,\n",
       " 'oelkebr01': 1986,\n",
       " 'romanjo02': 1986,\n",
       " 'schuldo01': 1986,\n",
       " 'snydeco02': 1994,\n",
       " 'swindgr01': 2002,\n",
       " 'willsfr01': 1991,\n",
       " 'yettri01': 1990,\n",
       " 'colesda01': 1997,\n",
       " 'kinger01': 1992,\n",
       " 'lagami01': 1990,\n",
       " 'lowrydw01': 1988,\n",
       " 'onealra01': 1989,\n",
       " 'calhoje01': 1988,\n",
       " 'deshaji01': 1994,\n",
       " 'hatchbi01': 1994,\n",
       " 'kerfech01': 1990,\n",
       " 'mizerjo01': 1986,\n",
       " 'pankoji01': 1988,\n",
       " 'bankhsc01': 1995,\n",
       " 'biancbu01': 1986,\n",
       " 'coneda01': 2001,\n",
       " 'farrst01': 1994,\n",
       " 'hargeal01': 1986,\n",
       " 'huismma01': 1989,\n",
       " 'kingemi01': 1996,\n",
       " 'quirkja01': 1992,\n",
       " 'salazan01': 1987,\n",
       " 'whitefr01': 1990,\n",
       " 'anderda02': 1992,\n",
       " 'gonzajo02': 1991,\n",
       " 'hamilje01': 1991,\n",
       " 'holtobr01': 1990,\n",
       " 'howelke01': 1992,\n",
       " 'powelde01': 1993,\n",
       " 'stubbfr01': 1995,\n",
       " 'vonohda01': 1986,\n",
       " 'willire01': 1986,\n",
       " 'beanebi01': 1989,\n",
       " 'espinal01': 1996,\n",
       " 'gagnegr01': 1997,\n",
       " 'lombast01': 1990,\n",
       " 'portuma01': 1999,\n",
       " 'reedje02': 2000,\n",
       " 'birkbmi01': 1990,\n",
       " 'bosioch01': 1996,\n",
       " 'bragggl01': 1992,\n",
       " 'cluttbr01': 1989,\n",
       " 'deerro01': 1993,\n",
       " 'johnsjo04': 1986,\n",
       " 'learyti01': 1993,\n",
       " 'nieveju01': 1990,\n",
       " 'plesada01': 2003,\n",
       " 'rileser01': 1993,\n",
       " 'searara01': 1990,\n",
       " 'sveumda01': 1999,\n",
       " 'wegmabi01': 1995,\n",
       " 'bilarda01': 1992,\n",
       " 'burketi01': 1992,\n",
       " 'fitzgmi02': 1992,\n",
       " 'galaran01': 2003,\n",
       " 'heskejo01': 1994,\n",
       " 'huntra01': 1986,\n",
       " 'johnswa03': 1990,\n",
       " 'newmaal01': 1992,\n",
       " 'nietoto01': 1989,\n",
       " 'riverlu01': 1998,\n",
       " 'sebrabo01': 1992,\n",
       " 'tomlida01': 1986,\n",
       " 'webstmi01': 1995,\n",
       " 'winnihe01': 1992,\n",
       " 'youmafl01': 1988,\n",
       " 'drabedo01': 1998,\n",
       " 'espinju01': 1986,\n",
       " 'paglimi01': 1995,\n",
       " 'pasquda01': 1994,\n",
       " 'rasmude01': 1995,\n",
       " 'aguilri01': 2000,\n",
       " 'dykstle01': 1998,\n",
       " 'elsteke01': 2000,\n",
       " 'fernasi01': 1997,\n",
       " 'gibbojo02': 1988,\n",
       " 'hearned02': 1988,\n",
       " 'mitchke01': 1998,\n",
       " 'niemara01': 1986,\n",
       " 'bairdo01': 1990,\n",
       " 'cansejo01': 2000,\n",
       " 'hilldo01': 1992,\n",
       " 'kruegbi01': 1994,\n",
       " 'leipeda01': 1996,\n",
       " 'mcgwima01': 2001,\n",
       " 'moonebi01': 1986,\n",
       " 'ontivst02': 1997,\n",
       " 'plunker01': 1999,\n",
       " 'rijojo01': 2002,\n",
       " 'sakatle01': 1987,\n",
       " 'tettlmi01': 1997,\n",
       " 'tillmru01': 1986,\n",
       " 'willaje01': 1990,\n",
       " 'youngcu01': 1993,\n",
       " 'carmado01': 1990,\n",
       " 'daultda01': 1997,\n",
       " 'jacksmi02': 2004,\n",
       " 'jeltzst01': 1990,\n",
       " 'maddumi01': 2000,\n",
       " 'reynoro02': 1987,\n",
       " 'roeniro01': 1987,\n",
       " 'ruffibr01': 1996,\n",
       " 'russejo02': 1993,\n",
       " 'schuri01': 1989,\n",
       " 'stoneje01': 1988,\n",
       " 'thompmi02': 1996,\n",
       " 'tolivfr01': 1990,\n",
       " 'wilsogl01': 1990,\n",
       " 'bellira01': 1998,\n",
       " 'bielemi01': 1997,\n",
       " 'bondsba01': 2007,\n",
       " 'breamsi01': 1994,\n",
       " 'clemepa01': 1992,\n",
       " 'diazmi01': 1988,\n",
       " 'distebe01': 1989,\n",
       " 'jonesba01': 1992,\n",
       " 'kippebo01': 1992,\n",
       " 'krawcra01': 1986,\n",
       " 'ortizju01': 1994,\n",
       " 'reynorj01': 1990,\n",
       " 'walkbo01': 1993,\n",
       " 'winnji01': 1987,\n",
       " 'bochybr01': 1987,\n",
       " 'iorgda01': 1986,\n",
       " 'krukjo01': 1995,\n",
       " 'mcculla01': 1990,\n",
       " 'roberbi01': 1998,\n",
       " 'waltege01': 1989,\n",
       " 'wojnaed01': 1989,\n",
       " 'wynnema01': 1990,\n",
       " 'bestka01': 1989,\n",
       " 'brantmi01': 1990,\n",
       " 'fireost01': 1992,\n",
       " 'laddpe01': 1986,\n",
       " 'morgami01': 2002,\n",
       " 'mosesjo01': 1990,\n",
       " 'ramosdo01': 1990,\n",
       " 'reedje01': 1990,\n",
       " 'reynoha01': 1994,\n",
       " 'swiftbi02': 1998,\n",
       " 'tartada01': 1997,\n",
       " 'thomaro02': 1986,\n",
       " 'aldremi01': 1996,\n",
       " 'clarkwi02': 2000,\n",
       " 'downske01': 1993,\n",
       " 'kutchra01': 1990,\n",
       " 'lacosmi01': 1991,\n",
       " 'masonro01': 1994,\n",
       " 'melvibo01': 1993,\n",
       " 'quinolu01': 1991,\n",
       " 'robinje01': 1992,\n",
       " 'thompro01': 1997,\n",
       " 'uribejo01': 1993,\n",
       " 'willifr01': 1989,\n",
       " 'conroti01': 1987,\n",
       " 'fordcu01': 1990,\n",
       " 'hurdlcl01': 1986,\n",
       " 'lavalmi01': 1995,\n",
       " 'lawleto01': 1990,\n",
       " 'mathegr01': 1992,\n",
       " 'morrijo07': 1992,\n",
       " 'oquenjo01': 1995,\n",
       " 'perrypa02': 1990,\n",
       " 'soffra01': 1986,\n",
       " 'whiteje01': 1986,\n",
       " 'worreto01': 1997,\n",
       " 'buechst01': 1994,\n",
       " 'correed01': 1989,\n",
       " 'guzmajo01': 1996,\n",
       " 'harrigr01': 1995,\n",
       " 'incavpe01': 1998,\n",
       " 'loyndmi01': 1986,\n",
       " 'mohorda01': 1988,\n",
       " 'petrage01': 1993,\n",
       " 'russeje01': 1996,\n",
       " 'sierrru01': 2005,\n",
       " 'wilkecu01': 1993,\n",
       " 'willimi02': 1994,\n",
       " 'wittbo01': 2001,\n",
       " 'wrighri01': 1986,\n",
       " 'cerutjo01': 1991,\n",
       " 'eichhma01': 1996,\n",
       " 'filerto01': 1990,\n",
       " 'grubeke01': 1993,\n",
       " 'leachri01': 1989,\n",
       " 'leema02': 1994,\n",
       " 'musseje01': 1990,\n",
       " 'shephro01': 1988,\n",
       " 'blausje01': 1999,\n",
       " 'boevejo01': 1995,\n",
       " 'glavito02': 2009,\n",
       " 'hallal02': 1989,\n",
       " 'jamesdi01': 1995,\n",
       " 'puleoch01': 1988,\n",
       " 'rungepa01': 1988,\n",
       " 'arnolto01': 1987,\n",
       " 'beller01': 1993,\n",
       " 'gerhake01': 1988,\n",
       " 'griffmi02': 1987,\n",
       " 'habyajo01': 1995,\n",
       " 'hartmi02': 1987,\n",
       " 'oconnja02': 1987,\n",
       " 'ripkebi01': 1998,\n",
       " 'washiro01': 1987,\n",
       " 'willima05': 1994,\n",
       " 'benzito01': 1994,\n",
       " 'boltoto01': 1993,\n",
       " 'burksel01': 2004,\n",
       " 'buicede01': 1988,\n",
       " 'fimplja01': 1987,\n",
       " 'frasewi01': 1995,\n",
       " 'milleda01': 1987,\n",
       " 'polidgu01': 1990,\n",
       " 'caldeiv01': 1993,\n",
       " 'davisjo03': 1987,\n",
       " 'manrifr01': 1990,\n",
       " 'balleja01': 1987,\n",
       " 'dayetbr01': 1987,\n",
       " 'halldr01': 1990,\n",
       " 'lancale01': 1993,\n",
       " 'martida01': 2002,\n",
       " 'palmera01': 2005,\n",
       " 'hoffmgu01': 1987,\n",
       " 'mcgrite01': 1994,\n",
       " 'oneilpa01': 2001,\n",
       " 'akerfda01': 1991,\n",
       " 'farrejo03': 1993,\n",
       " 'hinzoto01': 1989,\n",
       " 'jonesdo01': 2000,\n",
       " 'noboaju01': 1994,\n",
       " 'rittere01': 1987,\n",
       " 'willied01': 1997,\n",
       " 'hennemi01': 1997,\n",
       " 'nokesma01': 1995,\n",
       " 'robinje02': 1992,\n",
       " 'caminke01': 2001,\n",
       " 'heathje02': 1988,\n",
       " 'youngge02': 1993,\n",
       " 'davisjo04': 1990,\n",
       " 'eisenji01': 1998,\n",
       " 'gleatje01': 1992,\n",
       " 'jacksbo01': 1994,\n",
       " 'jonesro01': 1987,\n",
       " 'owenla01': 1987,\n",
       " 'pecotbi01': 1994,\n",
       " 'seitzke01': 1997,\n",
       " 'stoddbo01': 1987,\n",
       " 'thurmga01': 1995,\n",
       " 'hillesh01': 1993,\n",
       " 'shiplcr01': 1997,\n",
       " 'wellmbr01': 1989,\n",
       " 'woodstr01': 1993,\n",
       " 'adducji01': 1987,\n",
       " 'aldrija01': 1987,\n",
       " 'castiju01': 1988,\n",
       " 'crimch01': 1993,\n",
       " 'feldemi01': 1994,\n",
       " 'knudsma01': 1991,\n",
       " 'surhobj01': 2005,\n",
       " 'candaca01': 1996,\n",
       " 'parreje01': 1996,\n",
       " 'arnsbbr01': 1992,\n",
       " 'hugheke01': 1990,\n",
       " 'pedrial01': 1988,\n",
       " 'tewksbo01': 1998,\n",
       " 'velarra01': 2002,\n",
       " 'leachte01': 1993,\n",
       " 'lyonsba01': 1991,\n",
       " 'magadda01': 2001,\n",
       " 'milleke01': 1994,\n",
       " 'myersra01': 2000,\n",
       " 'cadargr01': 1998,\n",
       " 'javiest01': 2001,\n",
       " 'polonlu01': 2000,\n",
       " 'steinte01': 1999,\n",
       " 'jamesch02': 1995,\n",
       " 'ritchwa01': 1992,\n",
       " 'gideobr01': 1987,\n",
       " 'lindjo01': 1994,\n",
       " 'smilejo01': 1998,\n",
       " 'bookegr01': 1988,\n",
       " 'jeffest01': 1990,\n",
       " 'jonesji02': 1993,\n",
       " 'macksh01': 1998,\n",
       " 'nolteer01': 1991,\n",
       " 'readyra01': 1995,\n",
       " 'santibe01': 2005,\n",
       " 'nunezjo01': 1990,\n",
       " 'comstke01': 1990,\n",
       " 'grantma01': 1991,\n",
       " 'masonmi01': 1987,\n",
       " 'johnsla03': 2000,\n",
       " 'lindeji01': 1992,\n",
       " 'magrajo01': 1996,\n",
       " 'pagnoto01': 1998,\n",
       " 'peterst01': 1987,\n",
       " 'browebo01': 1988,\n",
       " 'brownje01': 1995,\n",
       " 'fieldce01': 1998,\n",
       " 'gordodo01': 1987,\n",
       " 'liriane01': 1997,\n",
       " 'mcgrifr01': 2003,\n",
       " 'blockte01': 1988,\n",
       " 'carych01': 1994,\n",
       " 'coffmke01': 1990,\n",
       " 'eavega01': 1988,\n",
       " 'gantro01': 2003,\n",
       " 'smithpe02': 1998,\n",
       " 'bautijo01': 1997,\n",
       " 'gonzare01': 1996,\n",
       " 'mesajo01': 2007,\n",
       " 'nichoca01': 1990,\n",
       " 'perazos01': 1989,\n",
       " 'rowdowa01': 1988,\n",
       " 'anderbr01': 2002,\n",
       " 'ellswst01': 1988,\n",
       " 'hornsa01': 1992,\n",
       " 'marzajo01': 1998,\n",
       " 'reedjo01': 1997,\n",
       " 'rominke01': 1991,\n",
       " 'selleje01': 1988,\n",
       " 'trautjo01': 1988,\n",
       " 'dimicfr01': 1988,\n",
       " 'epparji01': 1988,\n",
       " 'harvebr01': 1997,\n",
       " 'lazorja01': 1988,\n",
       " 'mclemma01': 2004,\n",
       " 'walkech01': 1993,\n",
       " 'longbi01': 1991,\n",
       " 'lyonsst01': 1992,\n",
       " 'mcdowja01': 1999,\n",
       " 'pawlojo01': 1988,\n",
       " 'perezme01': 1996,\n",
       " 'segurjo01': 1990,\n",
       " 'willike02': 1991,\n",
       " 'berryda01': 1997,\n",
       " 'capelmi01': 1988,\n",
       " 'jacksda03': 1999,\n",
       " 'maddugr01': 2008,\n",
       " 'roomero01': 1990,\n",
       " 'mcclell01': 1994,\n",
       " 'saboch01': 1996,\n",
       " 'treadje01': 1995,\n",
       " 'bellja01': 2003,\n",
       " 'clarkda05': 1998,\n",
       " 'gibsopa01': 1994,\n",
       " 'bailema01': 1988,\n",
       " 'gainety01': 1988,\n",
       " 'jacksch03': 1990,\n",
       " 'medvisc01': 1988,\n",
       " 'macfami01': 1999,\n",
       " 'madissc01': 1989,\n",
       " 'belchti01': 2000,\n",
       " 'brennwi01': 1988,\n",
       " 'bryanra01': 1988,\n",
       " 'crewsti01': 1992,\n",
       " 'davidma01': 1991,\n",
       " 'larkige01': 1993,\n",
       " 'strakle01': 1988,\n",
       " 'meyerjo01': 1989,\n",
       " 'staplda02': 1988,\n",
       " 'stclara01': 1988,\n",
       " 'buhneja01': 2001,\n",
       " 'guettle01': 1992,\n",
       " 'kellyro01': 2000,\n",
       " 'leiteal01': 2005,\n",
       " 'sassema01': 1994,\n",
       " 'gallemi01': 1996,\n",
       " 'jennido01': 1990,\n",
       " 'weisswa01': 2000,\n",
       " 'frohwto01': 1993,\n",
       " 'dunnemi01': 1990,\n",
       " 'fermife01': 1996,\n",
       " 'millira01': 1994,\n",
       " 'palacvi01': 1995,\n",
       " 'pattebo01': 1998,\n",
       " 'rodriru01': 1988,\n",
       " 'abnersh01': 1992,\n",
       " 'parenma01': 1998,\n",
       " 'sierrca01': 1988,\n",
       " 'campbmi01': 1996,\n",
       " 'cottohe01': 1993,\n",
       " ...}"
      ]
     },
     "execution_count": 56,
     "metadata": {},
     "output_type": "execute_result"
    }
   ],
   "source": [
    "easier_dict[\"yearID\"]"
   ]
  },
  {
   "cell_type": "markdown",
   "metadata": {},
   "source": [
    "#### Create Dataframe Using the Constructor"
   ]
  },
  {
   "cell_type": "markdown",
   "metadata": {
    "ExecuteTime": {
     "end_time": "2019-08-24T15:53:45.113577Z",
     "start_time": "2019-08-24T15:53:45.110554Z"
    }
   },
   "source": [
    "Read the documentation: https://pandas.pydata.org/pandas-docs/stable/reference/api/pandas.DataFrame.html#pandas.DataFrame and create a dataframe using pd.DataFrame from the dictionary created in the iterrows() exercise. Change the header to \"a\", \"b\", \"c\", ... at creation time."
   ]
  },
  {
   "cell_type": "code",
   "execution_count": 65,
   "metadata": {
    "ExecuteTime": {
     "end_time": "2019-08-28T03:53:06.129037Z",
     "start_time": "2019-08-28T03:53:06.074438Z"
    }
   },
   "outputs": [],
   "source": [
    "data_using_constructor = pd.DataFrame(easier_dict)\n",
    "data_using_constructor.columns = ['a','b','c','d']"
   ]
  },
  {
   "cell_type": "code",
   "execution_count": 66,
   "metadata": {},
   "outputs": [
    {
     "data": {
      "text/html": [
       "<div>\n",
       "<style scoped>\n",
       "    .dataframe tbody tr th:only-of-type {\n",
       "        vertical-align: middle;\n",
       "    }\n",
       "\n",
       "    .dataframe tbody tr th {\n",
       "        vertical-align: top;\n",
       "    }\n",
       "\n",
       "    .dataframe thead th {\n",
       "        text-align: right;\n",
       "    }\n",
       "</style>\n",
       "<table border=\"1\" class=\"dataframe\">\n",
       "  <thead>\n",
       "    <tr style=\"text-align: right;\">\n",
       "      <th></th>\n",
       "      <th>a</th>\n",
       "      <th>b</th>\n",
       "      <th>c</th>\n",
       "      <th>d</th>\n",
       "    </tr>\n",
       "  </thead>\n",
       "  <tbody>\n",
       "    <tr>\n",
       "      <th>bedrost01</th>\n",
       "      <td>1995</td>\n",
       "      <td>ATL</td>\n",
       "      <td>NL</td>\n",
       "      <td>750000</td>\n",
       "    </tr>\n",
       "    <tr>\n",
       "      <th>benedbr01</th>\n",
       "      <td>1989</td>\n",
       "      <td>ATL</td>\n",
       "      <td>NL</td>\n",
       "      <td>395000</td>\n",
       "    </tr>\n",
       "    <tr>\n",
       "      <th>campri01</th>\n",
       "      <td>1986</td>\n",
       "      <td>ATL</td>\n",
       "      <td>NL</td>\n",
       "      <td>600000</td>\n",
       "    </tr>\n",
       "    <tr>\n",
       "      <th>ceronri01</th>\n",
       "      <td>1992</td>\n",
       "      <td>MON</td>\n",
       "      <td>NL</td>\n",
       "      <td>230000</td>\n",
       "    </tr>\n",
       "    <tr>\n",
       "      <th>chambch01</th>\n",
       "      <td>1986</td>\n",
       "      <td>ATL</td>\n",
       "      <td>NL</td>\n",
       "      <td>769452</td>\n",
       "    </tr>\n",
       "    <tr>\n",
       "      <th>...</th>\n",
       "      <td>...</td>\n",
       "      <td>...</td>\n",
       "      <td>...</td>\n",
       "      <td>...</td>\n",
       "    </tr>\n",
       "    <tr>\n",
       "      <th>barreaa01</th>\n",
       "      <td>2015</td>\n",
       "      <td>WAS</td>\n",
       "      <td>NL</td>\n",
       "      <td>514200</td>\n",
       "    </tr>\n",
       "    <tr>\n",
       "      <th>dendema01</th>\n",
       "      <td>2015</td>\n",
       "      <td>WAS</td>\n",
       "      <td>NL</td>\n",
       "      <td>512972</td>\n",
       "    </tr>\n",
       "    <tr>\n",
       "      <th>robincl01</th>\n",
       "      <td>2015</td>\n",
       "      <td>WAS</td>\n",
       "      <td>NL</td>\n",
       "      <td>525000</td>\n",
       "    </tr>\n",
       "    <tr>\n",
       "      <th>taylomi02</th>\n",
       "      <td>2015</td>\n",
       "      <td>WAS</td>\n",
       "      <td>NL</td>\n",
       "      <td>508700</td>\n",
       "    </tr>\n",
       "    <tr>\n",
       "      <th>treinbl01</th>\n",
       "      <td>2015</td>\n",
       "      <td>WAS</td>\n",
       "      <td>NL</td>\n",
       "      <td>512800</td>\n",
       "    </tr>\n",
       "  </tbody>\n",
       "</table>\n",
       "<p>4963 rows × 4 columns</p>\n",
       "</div>"
      ],
      "text/plain": [
       "              a    b   c       d\n",
       "bedrost01  1995  ATL  NL  750000\n",
       "benedbr01  1989  ATL  NL  395000\n",
       "campri01   1986  ATL  NL  600000\n",
       "ceronri01  1992  MON  NL  230000\n",
       "chambch01  1986  ATL  NL  769452\n",
       "...         ...  ...  ..     ...\n",
       "barreaa01  2015  WAS  NL  514200\n",
       "dendema01  2015  WAS  NL  512972\n",
       "robincl01  2015  WAS  NL  525000\n",
       "taylomi02  2015  WAS  NL  508700\n",
       "treinbl01  2015  WAS  NL  512800\n",
       "\n",
       "[4963 rows x 4 columns]"
      ]
     },
     "execution_count": 66,
     "metadata": {},
     "output_type": "execute_result"
    }
   ],
   "source": [
    "data_using_constructor"
   ]
  },
  {
   "cell_type": "markdown",
   "metadata": {},
   "source": [
    "### Numpy"
   ]
  },
  {
   "cell_type": "markdown",
   "metadata": {},
   "source": [
    "Quick start: https://www.numpy.org/devdocs/user/quickstart.html\n",
    "\n",
    "Numpy axes explaination: https://www.sharpsightlabs.com/blog/numpy-axes-explained/"
   ]
  },
  {
   "cell_type": "markdown",
   "metadata": {},
   "source": [
    "#### The np.array Method"
   ]
  },
  {
   "cell_type": "markdown",
   "metadata": {},
   "source": [
    "Example 1:\n",
    "\n",
    "```python\n",
    "ls = [1, 2, 3]\n",
    "arr = np.array(ls)\n",
    "```\n",
    "\n",
    "Example 2:\n",
    "```python\n",
    ">>> np.array([[1, 2], [3, 4]])\n",
    "array([[1, 2],\n",
    "       [3, 4]])\n",
    "```"
   ]
  },
  {
   "cell_type": "markdown",
   "metadata": {},
   "source": [
    "Now, create a 2-dimensional Python list object, then convert it to a Numpy array object."
   ]
  },
  {
   "cell_type": "code",
   "execution_count": 69,
   "metadata": {},
   "outputs": [
    {
     "data": {
      "text/plain": [
       "array([[1, 2, 3, 4],\n",
       "       [5, 6, 7, 8]])"
      ]
     },
     "execution_count": 69,
     "metadata": {},
     "output_type": "execute_result"
    }
   ],
   "source": [
    "twodim_list = [[1,2,3,4],[5,6,7,8]]\n",
    "twodim_list_np = np.array(twodim_list)\n",
    "twodim_list_np"
   ]
  },
  {
   "cell_type": "markdown",
   "metadata": {},
   "source": [
    "#### ndarray Objects' Attributes"
   ]
  },
  {
   "cell_type": "markdown",
   "metadata": {},
   "source": [
    "Play with the **ndim, shape, size, dtype, itemsize and data** attribute.\n",
    "\n",
    "Example:\n",
    "\n",
    "```python\n",
    ">>> arr = np.array([[1, 2], [3, 4]])\n",
    ">>> arr.ndim\n",
    "2\n",
    "```"
   ]
  },
  {
   "cell_type": "code",
   "execution_count": 72,
   "metadata": {},
   "outputs": [
    {
     "name": "stdout",
     "output_type": "stream",
     "text": [
      "2\n",
      "(2, 4)\n",
      "int64\n",
      "8\n",
      "<memory at 0x7f974441f920>\n"
     ]
    }
   ],
   "source": [
    "print(twodim_list_np.ndim)\n",
    "print(twodim_list_np.shape)\n",
    "print(twodim_list_np.dtype)\n",
    "print(twodim_list_np.itemsize)\n",
    "print(twodim_list_np.data) #reference pointer"
   ]
  },
  {
   "cell_type": "markdown",
   "metadata": {},
   "source": [
    "#### Dimension of ndarray Ojects"
   ]
  },
  {
   "cell_type": "markdown",
   "metadata": {},
   "source": [
    "Play with the reshape() and flatten() method.\n",
    "\n",
    "Example:\n",
    "```python\n",
    ">>> arr = np.array([[1, 2], [3, 4]])\n",
    ">>> arr.flatten()\n",
    "array([1, 2, 3, 4])\n",
    "```"
   ]
  },
  {
   "cell_type": "code",
   "execution_count": 73,
   "metadata": {},
   "outputs": [
    {
     "data": {
      "text/plain": [
       "array([1, 2, 3, 4, 5, 6, 7, 8])"
      ]
     },
     "execution_count": 73,
     "metadata": {},
     "output_type": "execute_result"
    }
   ],
   "source": [
    "twodim_list_np.flatten()"
   ]
  },
  {
   "cell_type": "code",
   "execution_count": 76,
   "metadata": {},
   "outputs": [
    {
     "data": {
      "text/plain": [
       "array([[1],\n",
       "       [2],\n",
       "       [3],\n",
       "       [4],\n",
       "       [5],\n",
       "       [6],\n",
       "       [7],\n",
       "       [8]])"
      ]
     },
     "execution_count": 76,
     "metadata": {},
     "output_type": "execute_result"
    }
   ],
   "source": [
    "twodim_list_np.reshape(8,1)"
   ]
  },
  {
   "cell_type": "code",
   "execution_count": 77,
   "metadata": {},
   "outputs": [
    {
     "data": {
      "text/plain": [
       "array([[1, 2],\n",
       "       [3, 4],\n",
       "       [5, 6],\n",
       "       [7, 8]])"
      ]
     },
     "execution_count": 77,
     "metadata": {},
     "output_type": "execute_result"
    }
   ],
   "source": [
    "twodim_list_np.reshape(4,2)"
   ]
  },
  {
   "cell_type": "markdown",
   "metadata": {},
   "source": [
    "#### The Slice Operation of ndarray Objects"
   ]
  },
  {
   "cell_type": "markdown",
   "metadata": {},
   "source": [
    "Understand how the slice operation works for 1-D array and 2-D array.\n",
    "\n",
    "Example:\n",
    "\n",
    "```python\n",
    ">>> arr = np.array([[1, 2, 3], [3, 4, 6], [7, 8, 9]])\n",
    ">>> arr[1:]\n",
    "array([[3, 4, 6],\n",
    "       [7, 8, 9]])\n",
    ">>> arr[1:, 0:2]\n",
    "array([[3, 4],\n",
    "       [7, 8]])\n",
    "```"
   ]
  },
  {
   "cell_type": "code",
   "execution_count": 78,
   "metadata": {},
   "outputs": [
    {
     "data": {
      "text/plain": [
       "array([ 4,  5,  6,  7,  8,  9, 10])"
      ]
     },
     "execution_count": 78,
     "metadata": {},
     "output_type": "execute_result"
    }
   ],
   "source": [
    "list1 = [1,2,3,4,5,6,7,8,9,10]\n",
    "list1_np = np.array(list1)\n",
    "list1_np[3:]"
   ]
  },
  {
   "cell_type": "code",
   "execution_count": 82,
   "metadata": {},
   "outputs": [
    {
     "data": {
      "text/plain": [
       "array([[ 6],\n",
       "       [ 8],\n",
       "       [10]])"
      ]
     },
     "execution_count": 82,
     "metadata": {},
     "output_type": "execute_result"
    }
   ],
   "source": [
    "list2 = [[1,2],[3,4],[5,6],[7,8],[9,10]]\n",
    "list2_np = np.array(list2)\n",
    "list2_np[2:, 1:]"
   ]
  },
  {
   "cell_type": "markdown",
   "metadata": {},
   "source": [
    "#### The Calculation of ndarray Objects"
   ]
  },
  {
   "cell_type": "markdown",
   "metadata": {},
   "source": [
    "Play with the **argmin(), argmax(), min(), max(), mean(), sum(), std(), dot(), square(), sqrt(), abs(). exp(), sign(), mod()** method.\n",
    "\n",
    "Example:\n",
    "\n",
    "```python\n",
    ">>> np.square(array)\n",
    "array([[ 1,  4,  9],\n",
    "       [ 9, 16, 36],\n",
    "       [49, 64, 81]])\n",
    "\n",
    "```"
   ]
  },
  {
   "cell_type": "code",
   "execution_count": 95,
   "metadata": {},
   "outputs": [
    {
     "name": "stdout",
     "output_type": "stream",
     "text": [
      "0\n",
      "9\n",
      "1\n",
      "10\n",
      "5.5\n",
      "55\n",
      "2.8722813232690143\n",
      "[[ 43  46  49  52  55]\n",
      " [ 97 104 111 118 125]\n",
      " [151 162 173 184 195]\n",
      " [205 220 235 250 265]\n",
      " [259 278 297 316 335]]\n",
      "[[  1   4]\n",
      " [  9  16]\n",
      " [ 25  36]\n",
      " [ 49  64]\n",
      " [ 81 100]]\n",
      "[[1.         1.41421356]\n",
      " [1.73205081 2.        ]\n",
      " [2.23606798 2.44948974]\n",
      " [2.64575131 2.82842712]\n",
      " [3.         3.16227766]]\n",
      "[[ 1  2]\n",
      " [ 3  4]\n",
      " [ 5  6]\n",
      " [ 7  8]\n",
      " [ 9 10]]\n",
      "[[2.71828183e+00 7.38905610e+00]\n",
      " [2.00855369e+01 5.45981500e+01]\n",
      " [1.48413159e+02 4.03428793e+02]\n",
      " [1.09663316e+03 2.98095799e+03]\n",
      " [8.10308393e+03 2.20264658e+04]]\n",
      "[[1 1]\n",
      " [1 1]\n",
      " [1 1]\n",
      " [1 1]\n",
      " [1 1]]\n",
      "[[1 2]\n",
      " [0 1]\n",
      " [2 0]\n",
      " [1 2]\n",
      " [0 1]]\n"
     ]
    }
   ],
   "source": [
    "second_matrix = np.array([11,12,13,14,15,16,17,18,19,20]).reshape(2,5)\n",
    "print(list2_np.argmin())\n",
    "print(list2_np.argmax())\n",
    "print(list2_np.min())\n",
    "print(list2_np.max())\n",
    "print(list2_np.mean())\n",
    "print(list2_np.sum())\n",
    "print(list2_np.std())\n",
    "print(list2_np.dot(second_matrix))\n",
    "print(np.square(list2_np))\n",
    "print(np.sqrt(list2_np))\n",
    "print(np.abs(list2_np))\n",
    "print(np.exp(list2_np)) #e^val\n",
    "print(np.sign(list2_np)) #signum function\n",
    "print(np.mod(list2_np, 3)) #modulo function"
   ]
  },
  {
   "cell_type": "markdown",
   "metadata": {},
   "source": [
    "#### Other Important Methods Inside Module Numpy"
   ]
  },
  {
   "cell_type": "markdown",
   "metadata": {},
   "source": [
    "Play with the arange(), ones(), zeros(), eye(), linspace(), concatenate() method.\n",
    "\n",
    "Example:\n",
    "\n",
    "```python\n",
    ">>> np.eye(3)\n",
    "array([[1., 0., 0.],\n",
    "       [0., 1., 0.],\n",
    "       [0., 0., 1.]])\n",
    "```"
   ]
  },
  {
   "cell_type": "code",
   "execution_count": 103,
   "metadata": {},
   "outputs": [
    {
     "name": "stdout",
     "output_type": "stream",
     "text": [
      "[10.  10.3 10.6 10.9 11.2 11.5 11.8 12.1 12.4 12.7 13.  13.3 13.6 13.9\n",
      " 14.2 14.5 14.8 15.1 15.4 15.7 16.  16.3 16.6 16.9 17.2 17.5 17.8 18.1\n",
      " 18.4 18.7 19.  19.3 19.6 19.9]\n",
      "[[1. 1. 1. 1. 1.]\n",
      " [1. 1. 1. 1. 1.]]\n",
      "[[1. 0. 0. 0.]\n",
      " [0. 1. 0. 0.]\n",
      " [0. 0. 1. 0.]\n",
      " [0. 0. 0. 1.]]\n",
      "[10.         10.20408163 10.40816327 10.6122449  10.81632653 11.02040816\n",
      " 11.2244898  11.42857143 11.63265306 11.83673469 12.04081633 12.24489796\n",
      " 12.44897959 12.65306122 12.85714286 13.06122449 13.26530612 13.46938776\n",
      " 13.67346939 13.87755102 14.08163265 14.28571429 14.48979592 14.69387755\n",
      " 14.89795918 15.10204082 15.30612245 15.51020408 15.71428571 15.91836735\n",
      " 16.12244898 16.32653061 16.53061224 16.73469388 16.93877551 17.14285714\n",
      " 17.34693878 17.55102041 17.75510204 17.95918367 18.16326531 18.36734694\n",
      " 18.57142857 18.7755102  18.97959184 19.18367347 19.3877551  19.59183673\n",
      " 19.79591837 20.        ]\n"
     ]
    }
   ],
   "source": [
    "print(np.arange(10, 20, 0.3))\n",
    "print(np.ones(10).reshape(2,5))\n",
    "print(np.eye(4)) #The eye tool returns a 2-D array with  1’s as the diagonal and  0’s elsewhere.\n",
    "print(np.linspace(10,20, 50)) # very similar to arange, but instead of using step size, it uses sample number"
   ]
  },
  {
   "cell_type": "markdown",
   "metadata": {},
   "source": [
    "### Scikit-Learn"
   ]
  },
  {
   "cell_type": "markdown",
   "metadata": {},
   "source": [
    "The followings are packages (or methods) in Python (Scikit-Learn and Scipy) that will be frequently used in your programming assignment. So, please read carefully.\n",
    "\n",
    "- Data Preprocessing (https://scikit-learn.org/stable/modules/classes.html#module-sklearn.preprocessing)\n",
    "    - Standardization: StandardScaler\n",
    "    - Normalization: MinMaxScaler\n",
    "    - Quantifing Categorical Features: LabelEncoder. OneHotEncoder\n",
    "    - Construct Train and Test Set: model_selection.train_test_split\n",
    "- KNN: KNeighborsClassifier\n",
    "- Linear Regression: LinearRegression\n",
    "- Logistic Regression: LogisticRegression, LogisticRegressionCV\n",
    "- Feature Selection / Model Selection\n",
    "    - L1 Penalized Regression (Lasso Regression) with Cross-Validation: LassoCV\n",
    "    - L2 Penalized Regression (Ridge Regression) with Cross-Validation: RidgeCV\n",
    "    - Cross-Validation: StratifiedKFold, RepeatedKFold, LeaveOneOut, KFold, model_selection.cross_validate, model_selection.cross_val_predict, model_selection.cross_val_score\n",
    "    - Model Metrics (https://scikit-learn.org/stable/modules/classes.html#sklearn-metrics-metrics): accuracy_score, auc, f1_score, hamming_loss, precision_score, recall_score, roc_auc_score\n",
    "- Decision Tree: DecisionTreeClassifier, DecisionTreeRegressor\n",
    "- Bootstrap, Ensemble Methods\n",
    "    - Bootstrap: bootstrapped (https://pypi.org/project/bootstrapped/)\n",
    "    - Bagging: RandomForestClassifier, RandomForestRegressor\n",
    "    - Boosting: AdaBoostClassifier, AdaBoostRegressor\n",
    "- Support Vector Machines (https://scikit-learn.org/stable/modules/svm.html#svm): LinearSVC, LinearSVR\n",
    "- Multiclass and Multilabel Classification (https://scikit-learn.org/stable/modules/classes.html#module-sklearn.multiclass)\n",
    "    - One-vs-one Multiclass Strategy: OneVsOneClassifier\n",
    "    - One-vs-the-rest (OvR) multiclass/multilabel strategy / OneVsRestClassifier\n",
    "- Unsupervised Learning\n",
    "    - K-means Clustering: KMeans\n",
    "    - Hierarchical Clustering: scipy.cluster.hierarchy (not scikit-learn)\n",
    "- Semisupervised Learning (https://scikit-learn.org/stable/modules/label_propagation.html)"
   ]
  },
  {
   "cell_type": "markdown",
   "metadata": {},
   "source": [
    "### Matplotlib"
   ]
  },
  {
   "cell_type": "markdown",
   "metadata": {},
   "source": [
    "**Quick start:** https://matplotlib.org/3.1.1/tutorials/introductory/pyplot.html\n",
    "\n",
    "**Exercises:**"
   ]
  },
  {
   "cell_type": "markdown",
   "metadata": {},
   "source": [
    "(a) Create two one dimensional arrays x and y and plot y vs x, add title, xlabel, ylabel, grid.\n",
    "\n",
    "```python\n",
    "import numpy as np\n",
    "import matplotlib.pyplot as plt\n",
    "\n",
    "\n",
    "x = np.linspace(-5, 5, num=20)\n",
    "y = np.array([j ** 2 for j in x])\n",
    "```\n",
    "\n",
    "copy the code above to the following cell and add code for plotting the parabola."
   ]
  },
  {
   "cell_type": "code",
   "execution_count": 125,
   "metadata": {
    "ExecuteTime": {
     "end_time": "2020-01-08T10:38:20.467433Z",
     "start_time": "2020-01-08T10:38:20.462120Z"
    }
   },
   "outputs": [
    {
     "name": "stdout",
     "output_type": "stream",
     "text": [
      "X:  [-5.         -4.47368421 -3.94736842 -3.42105263 -2.89473684 -2.36842105\n",
      " -1.84210526 -1.31578947 -0.78947368 -0.26315789  0.26315789  0.78947368\n",
      "  1.31578947  1.84210526  2.36842105  2.89473684  3.42105263  3.94736842\n",
      "  4.47368421  5.        ]\n",
      "Y:  [25.         20.01385042 15.58171745 11.70360111  8.37950139  5.60941828\n",
      "  3.3933518   1.73130194  0.6232687   0.06925208  0.06925208  0.6232687\n",
      "  1.73130194  3.3933518   5.60941828  8.37950139 11.70360111 15.58171745\n",
      " 20.01385042 25.        ]\n"
     ]
    },
    {
     "data": {
      "text/plain": [
       "[<matplotlib.lines.Line2D at 0x7f974e4488e0>]"
      ]
     },
     "execution_count": 125,
     "metadata": {},
     "output_type": "execute_result"
    },
    {
     "data": {
      "image/png": "[encoded data removed]",
      "text/plain": [
       "<Figure size 432x288 with 1 Axes>"
      ]
     },
     "metadata": {
      "needs_background": "light"
     },
     "output_type": "display_data"
    }
   ],
   "source": [
    "import numpy as np\n",
    "import matplotlib.pyplot as plt\n",
    "\n",
    "\n",
    "x = np.linspace(-5, 5, num=20)\n",
    "y = np.array([j ** 2 for j in x])\n",
    "print(\"X: \", x)\n",
    "print(\"Y: \", y)\n",
    "\n",
    "fig, ax = plt.subplots(1) #only 1 plot\n",
    "ax.set_title(\"Sample Matplotlib\")\n",
    "ax.set_xlabel(\"X axis\")\n",
    "ax.set_ylabel(\"y axis\")\n",
    "ax.grid()\n",
    "ax.plot(x, y)"
   ]
  },
  {
   "cell_type": "markdown",
   "metadata": {
    "ExecuteTime": {
     "end_time": "2020-01-08T10:43:28.333944Z",
     "start_time": "2020-01-08T10:43:28.260989Z"
    }
   },
   "source": [
    "What happens if the independent variable is not sorted before plotting? Try plotting directly using the following defined array.\n",
    "\n",
    "```python\n",
    "import numpy as np\n",
    "import matplotlib.pyplot as plt\n",
    "\n",
    "\n",
    "x = np.linspace(-5, 5, num=20)\n",
    "np.random.shuffle(x)\n",
    "y = np.array([j ** 2 for j in x])\n",
    "```"
   ]
  },
  {
   "cell_type": "code",
   "execution_count": 126,
   "metadata": {},
   "outputs": [
    {
     "data": {
      "text/plain": [
       "[<matplotlib.lines.Line2D at 0x7f974e48f250>]"
      ]
     },
     "execution_count": 126,
     "metadata": {},
     "output_type": "execute_result"
    },
    {
     "data": {
      "image/png": "[encoded data removed]",
      "text/plain": [
       "<Figure size 432x288 with 1 Axes>"
      ]
     },
     "metadata": {
      "needs_background": "light"
     },
     "output_type": "display_data"
    }
   ],
   "source": [
    "import numpy as np\n",
    "import matplotlib.pyplot as plt\n",
    "\n",
    "\n",
    "x = np.linspace(-5, 5, num=20)\n",
    "np.random.shuffle(x)\n",
    "y = np.array([j ** 2 for j in x])\n",
    "fig, ax = plt.subplots(1) #only 1 plot\n",
    "ax.set_title(\"Sample Matplotlib\")\n",
    "ax.set_xlabel(\"X axis\")\n",
    "ax.set_ylabel(\"y axis\")\n",
    "ax.grid()\n",
    "ax.plot(x, y)"
   ]
  },
  {
   "cell_type": "markdown",
   "metadata": {},
   "source": [
    "(b) Create multiple arrays and plot them with different styles, add legends, add text/mathematical equations on the plot.\n",
    "\n",
    "```python\n",
    "import numpy as np\n",
    "import matplotlib.pyplot as plt\n",
    "\n",
    "\n",
    "x = np.linspace(-5, 5, num=20)\n",
    "y1 = np.array([j for j in x])\n",
    "y2 = np.array([j ** 2 for j in x])\n",
    "y3 = np.array([j ** 3 for j in x])\n",
    "```\n",
    "\n",
    "copy the code above to the following cell and add code for plotting curve $\\left(x, y1\\right)$, $\\left(x, y2\\right)$ and $\\left(x, y3\\right)$."
   ]
  },
  {
   "cell_type": "code",
   "execution_count": 135,
   "metadata": {},
   "outputs": [
    {
     "data": {
      "text/plain": [
       "[<matplotlib.lines.Line2D at 0x7f974d719060>]"
      ]
     },
     "execution_count": 135,
     "metadata": {},
     "output_type": "execute_result"
    },
    {
     "data": {
      "image/png": "[encoded data removed]",
      "text/plain": [
       "<Figure size 1080x1080 with 3 Axes>"
      ]
     },
     "metadata": {
      "needs_background": "light"
     },
     "output_type": "display_data"
    }
   ],
   "source": [
    "import numpy as np\n",
    "import matplotlib.pyplot as plt\n",
    "\n",
    "\n",
    "x = np.linspace(-5, 5, num=20)\n",
    "y1 = np.array([j for j in x])\n",
    "y2 = np.array([j ** 2 for j in x])\n",
    "y3 = np.array([j ** 3 for j in x])\n",
    "\n",
    "fig, ax = plt.subplots(3,1)\n",
    "\n",
    "fig.set_figheight(15)\n",
    "fig.set_figwidth(15)\n",
    "\n",
    "ax[0].set_title(\"Sample Matplotlib\")\n",
    "ax[0].text(4, 2, \"y=x\", fontsize=20)\n",
    "ax[0].set_xlabel(\"X axis\")\n",
    "ax[0].set_ylabel(\"y1 axis\")\n",
    "ax[0].grid()\n",
    "ax[0].plot(x, y1)\n",
    "\n",
    "ax[1].set_title(\"Sample Matplotlib\")\n",
    "ax[1].set_xlabel(\"X axis\")\n",
    "ax[1].set_ylabel(\"y2 axis\")\n",
    "ax[1].grid()\n",
    "ax[1].plot(x, y2)\n",
    "\n",
    "ax[2].set_title(\"Sample Matplotlib\")\n",
    "ax[2].set_xlabel(\"X axis\")\n",
    "ax[2].set_ylabel(\"y3 axis\")\n",
    "ax[2].grid()\n",
    "ax[2].plot(x, y3)"
   ]
  },
  {
   "cell_type": "markdown",
   "metadata": {},
   "source": [
    "(c) Create multiple arrays and plot them into one figure **(No multiple figure and no subplot is allowed in this question)**.\n",
    "\n",
    "```python\n",
    "import numpy as np\n",
    "import matplotlib.pyplot as plt\n",
    "\n",
    "\n",
    "x = np.linspace(-5, 5, num=20)\n",
    "y1 = np.array([j for j in x])\n",
    "y2 = np.array([j ** 2 for j in x])\n",
    "y3 = np.array([j ** 3 for j in x])\n",
    "```\n",
    "\n",
    "copy the code above to the following cell and add code for plotting curve $\\left(x, y1\\right)$, $\\left(x, y2\\right)$ and $\\left(x, y3\\right)$."
   ]
  },
  {
   "cell_type": "code",
   "execution_count": 140,
   "metadata": {},
   "outputs": [
    {
     "data": {
      "text/plain": [
       "[<matplotlib.lines.Line2D at 0x7f972f5b2020>]"
      ]
     },
     "execution_count": 140,
     "metadata": {},
     "output_type": "execute_result"
    },
    {
     "data": {
      "image/png": "[encoded data removed]",
      "text/plain": [
       "<Figure size 432x288 with 1 Axes>"
      ]
     },
     "metadata": {
      "needs_background": "light"
     },
     "output_type": "display_data"
    }
   ],
   "source": [
    "# need to use offset to position all in one plot\n",
    "\n",
    "import numpy as np\n",
    "import matplotlib.pyplot as plt\n",
    "\n",
    "\n",
    "x = np.linspace(-5, 5, num=20)\n",
    "y1 = np.array([j for j in x])\n",
    "y2 = np.array([j ** 2 for j in x])\n",
    "y3 = np.array([j ** 3 for j in x])\n",
    "\n",
    "plt.plot(x,y2)\n",
    "plt.plot(x,y1)\n",
    "plt.plot(x,y3)"
   ]
  },
  {
   "cell_type": "markdown",
   "metadata": {},
   "source": [
    "(d) Create multiple subplots, play around with the figure size, figure title, and its font style and font size **(One curve is plotted in one subplot in this question)**.\n",
    "\n",
    "```python\n",
    "import numpy as np\n",
    "import matplotlib.pyplot as plt\n",
    "\n",
    "\n",
    "x = np.linspace(-5, 5, num=20)\n",
    "y1 = np.array([j for j in x])\n",
    "y2 = np.array([j ** 2 for j in x])\n",
    "y3 = np.array([j ** 3 for j in x])\n",
    "```\n",
    "\n",
    "copy the code above to the following cell and add code for plotting curve $\\left(x, y1\\right)$, $\\left(x, y2\\right)$ and $\\left(x, y3\\right)$."
   ]
  },
  {
   "cell_type": "code",
   "execution_count": 137,
   "metadata": {},
   "outputs": [
    {
     "data": {
      "text/plain": [
       "[<matplotlib.lines.Line2D at 0x7f972f14a620>]"
      ]
     },
     "execution_count": 137,
     "metadata": {},
     "output_type": "execute_result"
    },
    {
     "data": {
      "image/png": "[encoded data removed]",
      "text/plain": [
       "<Figure size 1080x1080 with 3 Axes>"
      ]
     },
     "metadata": {
      "needs_background": "light"
     },
     "output_type": "display_data"
    }
   ],
   "source": [
    "import numpy as np\n",
    "import matplotlib.pyplot as plt\n",
    "\n",
    "\n",
    "x = np.linspace(-5, 5, num=20)\n",
    "y1 = np.array([j for j in x])\n",
    "y2 = np.array([j ** 2 for j in x])\n",
    "y3 = np.array([j ** 3 for j in x])\n",
    "\n",
    "fig, ax = plt.subplots(1,3)\n",
    "\n",
    "fig.set_figheight(15)\n",
    "fig.set_figwidth(15)\n",
    "\n",
    "ax[0].set_title(\"Sample Matplotlib\")\n",
    "ax[0].text(4, 2, \"y=x\", fontsize=20)\n",
    "ax[0].set_xlabel(\"X axis\")\n",
    "ax[0].set_ylabel(\"y1 axis\")\n",
    "ax[0].grid()\n",
    "ax[0].plot(x, y1)\n",
    "\n",
    "ax[1].set_title(\"Sample Matplotlib\")\n",
    "ax[1].set_xlabel(\"X axis\")\n",
    "ax[1].set_ylabel(\"y2 axis\")\n",
    "ax[1].grid()\n",
    "ax[1].plot(x, y2)\n",
    "\n",
    "ax[2].set_title(\"Sample Matplotlib\")\n",
    "ax[2].set_xlabel(\"X axis\")\n",
    "ax[2].set_ylabel(\"y3 axis\")\n",
    "ax[2].grid()\n",
    "ax[2].plot(x, y3)"
   ]
  },
  {
   "cell_type": "markdown",
   "metadata": {},
   "source": [
    "(e) Change the limits on x and y axes, **use logarithmic axes to plot**.\n",
    "\n",
    "```python\n",
    "import numpy as np\n",
    "import matplotlib.pyplot as plt\n",
    "\n",
    "\n",
    "x = np.linspace(-5, 5, num=20)\n",
    "y = np.array([j ** 2 for j in x])\n",
    "```\n",
    "\n",
    "copy the code above to the following cell and add code for plotting the parabola."
   ]
  },
  {
   "cell_type": "code",
   "execution_count": 144,
   "metadata": {},
   "outputs": [
    {
     "data": {
      "image/png": "[encoded data removed]",
      "text/plain": [
       "<Figure size 432x288 with 1 Axes>"
      ]
     },
     "metadata": {
      "needs_background": "light"
     },
     "output_type": "display_data"
    }
   ],
   "source": [
    "import numpy as np\n",
    "import matplotlib.pyplot as plt\n",
    "\n",
    "\n",
    "x = np.linspace(-5, 5, num=20)\n",
    "y = np.array([j ** 2 for j in x])\n",
    "\n",
    "plt.plot(x,y)\n",
    "plt.xscale('log')\n",
    "plt.yscale('log')\n",
    "plt.show()"
   ]
  },
  {
   "cell_type": "markdown",
   "metadata": {},
   "source": [
    "### Pandas's DataFrame.plot and Seaborn"
   ]
  },
  {
   "cell_type": "markdown",
   "metadata": {},
   "source": [
    "#### Pandas's DataFrame.plot\n",
    "\n",
    "Use the Salaries.csv again (You can use the dataframe object loaded from section 3.1)."
   ]
  },
  {
   "cell_type": "markdown",
   "metadata": {},
   "source": [
    "(a) For team 'ATL', plot a scatter plot between feature yearID and salary."
   ]
  },
  {
   "cell_type": "code",
   "execution_count": 146,
   "metadata": {},
   "outputs": [
    {
     "data": {
      "text/plain": [
       "<AxesSubplot:xlabel='yearID', ylabel='salary'>"
      ]
     },
     "execution_count": 146,
     "metadata": {},
     "output_type": "execute_result"
    },
    {
     "data": {
      "image/png": "[encoded data removed]",
      "text/plain": [
       "<Figure size 720x720 with 1 Axes>"
      ]
     },
     "metadata": {},
     "output_type": "display_data"
    }
   ],
   "source": [
    "# using data from before\n",
    "\n",
    "import seaborn as sns\n",
    "sns.set(style=\"whitegrid\")\n",
    "sns.set(rc={'figure.figsize':(10,10)})\n",
    "sns.stripplot(x = \"yearID\", y=\"salary\", data=atl_data)"
   ]
  },
  {
   "cell_type": "markdown",
   "metadata": {},
   "source": [
    "(b) For year 1985, plot a bar chart to show the average salary for each team."
   ]
  },
  {
   "cell_type": "code",
   "execution_count": 152,
   "metadata": {},
   "outputs": [
    {
     "data": {
      "text/plain": [
       "<AxesSubplot:xlabel='teamID', ylabel='salary'>"
      ]
     },
     "execution_count": 152,
     "metadata": {},
     "output_type": "execute_result"
    },
    {
     "data": {
      "image/png": "[encoded data removed]",
      "text/plain": [
       "<Figure size 1440x720 with 1 Axes>"
      ]
     },
     "metadata": {},
     "output_type": "display_data"
    }
   ],
   "source": [
    "sns.set(style=\"whitegrid\")\n",
    "sns.set(rc={'figure.figsize':(20,10)})\n",
    "sns.barplot(x = \"teamID\", y=\"salary\", data=data[data[\"yearID\"]==1985], estimator=np.mean)"
   ]
  },
  {
   "cell_type": "markdown",
   "metadata": {},
   "source": [
    "(c) For team 'ATL', plot a line chart to show how the annual average salary change by years."
   ]
  },
  {
   "cell_type": "code",
   "execution_count": 161,
   "metadata": {},
   "outputs": [
    {
     "data": {
      "text/plain": [
       "<AxesSubplot:xlabel='yearID', ylabel='salary'>"
      ]
     },
     "execution_count": 161,
     "metadata": {},
     "output_type": "execute_result"
    },
    {
     "data": {
      "image/png": "[encoded data removed]",
      "text/plain": [
       "<Figure size 1440x720 with 1 Axes>"
      ]
     },
     "metadata": {},
     "output_type": "display_data"
    }
   ],
   "source": [
    "\n",
    "sns.set(style=\"whitegrid\")\n",
    "sns.set(rc={'figure.figsize':(20,10)})\n",
    "sns.lineplot(data=atl_data.groupby(\"yearID\")[\"salary\"].mean())"
   ]
  },
  {
   "cell_type": "markdown",
   "metadata": {},
   "source": [
    "#### Seaborn"
   ]
  },
  {
   "cell_type": "markdown",
   "metadata": {},
   "source": [
    "(a) Append one more numeric feature to the data frame (can be generated randomly), then for team 'ATL', use the seaborn.pairplot to plot scatter plots among all numeric features in the data frame for team. "
   ]
  },
  {
   "cell_type": "code",
   "execution_count": 164,
   "metadata": {},
   "outputs": [
    {
     "name": "stderr",
     "output_type": "stream",
     "text": [
      "/var/folders/d8/vlp_96mn7wv90lgj8zvc5m3r0000gn/T/ipykernel_31046/4055152862.py:2: SettingWithCopyWarning: \n",
      "A value is trying to be set on a copy of a slice from a DataFrame.\n",
      "Try using .loc[row_indexer,col_indexer] = value instead\n",
      "\n",
      "See the caveats in the documentation: https://pandas.pydata.org/pandas-docs/stable/user_guide/indexing.html#returning-a-view-versus-a-copy\n",
      "  atl_data_plusone[\"random\"] = np.random.randint(1, 50, atl_data.shape[0])\n",
      "/Users/ronetswaminathan/opt/miniconda3/envs/ml_hw/lib/python3.10/site-packages/seaborn/_core.py:1057: FutureWarning: reindexing with a non-unique Index is deprecated and will raise in a future version.\n",
      "  comp_col.loc[orig.index] = pd.to_numeric(axis.convert_units(orig))\n"
     ]
    },
    {
     "ename": "ValueError",
     "evalue": "cannot reindex on an axis with duplicate labels",
     "output_type": "error",
     "traceback": [
      "\u001b[0;31m---------------------------------------------------------------------------\u001b[0m",
      "\u001b[0;31mValueError\u001b[0m                                Traceback (most recent call last)",
      "Input \u001b[0;32mIn [164]\u001b[0m, in \u001b[0;36m<cell line: 7>\u001b[0;34m()\u001b[0m\n\u001b[1;32m      5\u001b[0m sns\u001b[38;5;241m.\u001b[39mset(style\u001b[38;5;241m=\u001b[39m\u001b[38;5;124m\"\u001b[39m\u001b[38;5;124mwhitegrid\u001b[39m\u001b[38;5;124m\"\u001b[39m)\n\u001b[1;32m      6\u001b[0m sns\u001b[38;5;241m.\u001b[39mset(rc\u001b[38;5;241m=\u001b[39m{\u001b[38;5;124m'\u001b[39m\u001b[38;5;124mfigure.figsize\u001b[39m\u001b[38;5;124m'\u001b[39m:(\u001b[38;5;241m20\u001b[39m,\u001b[38;5;241m10\u001b[39m)})\n\u001b[0;32m----> 7\u001b[0m \u001b[43msns\u001b[49m\u001b[38;5;241;43m.\u001b[39;49m\u001b[43mpairplot\u001b[49m\u001b[43m(\u001b[49m\u001b[43matl_data_plusone\u001b[49m\u001b[43m)\u001b[49m\n",
      "File \u001b[0;32m~/opt/miniconda3/envs/ml_hw/lib/python3.10/site-packages/seaborn/_decorators.py:46\u001b[0m, in \u001b[0;36m_deprecate_positional_args.<locals>.inner_f\u001b[0;34m(*args, **kwargs)\u001b[0m\n\u001b[1;32m     36\u001b[0m     warnings\u001b[38;5;241m.\u001b[39mwarn(\n\u001b[1;32m     37\u001b[0m         \u001b[38;5;124m\"\u001b[39m\u001b[38;5;124mPass the following variable\u001b[39m\u001b[38;5;132;01m{}\u001b[39;00m\u001b[38;5;124m as \u001b[39m\u001b[38;5;132;01m{}\u001b[39;00m\u001b[38;5;124mkeyword arg\u001b[39m\u001b[38;5;132;01m{}\u001b[39;00m\u001b[38;5;124m: \u001b[39m\u001b[38;5;132;01m{}\u001b[39;00m\u001b[38;5;124m. \u001b[39m\u001b[38;5;124m\"\u001b[39m\n\u001b[1;32m     38\u001b[0m         \u001b[38;5;124m\"\u001b[39m\u001b[38;5;124mFrom version 0.12, the only valid positional argument \u001b[39m\u001b[38;5;124m\"\u001b[39m\n\u001b[0;32m   (...)\u001b[0m\n\u001b[1;32m     43\u001b[0m         \u001b[38;5;167;01mFutureWarning\u001b[39;00m\n\u001b[1;32m     44\u001b[0m     )\n\u001b[1;32m     45\u001b[0m kwargs\u001b[38;5;241m.\u001b[39mupdate({k: arg \u001b[38;5;28;01mfor\u001b[39;00m k, arg \u001b[38;5;129;01min\u001b[39;00m \u001b[38;5;28mzip\u001b[39m(sig\u001b[38;5;241m.\u001b[39mparameters, args)})\n\u001b[0;32m---> 46\u001b[0m \u001b[38;5;28;01mreturn\u001b[39;00m \u001b[43mf\u001b[49m\u001b[43m(\u001b[49m\u001b[38;5;241;43m*\u001b[39;49m\u001b[38;5;241;43m*\u001b[39;49m\u001b[43mkwargs\u001b[49m\u001b[43m)\u001b[49m\n",
      "File \u001b[0;32m~/opt/miniconda3/envs/ml_hw/lib/python3.10/site-packages/seaborn/axisgrid.py:2126\u001b[0m, in \u001b[0;36mpairplot\u001b[0;34m(data, hue, hue_order, palette, vars, x_vars, y_vars, kind, diag_kind, markers, height, aspect, corner, dropna, plot_kws, diag_kws, grid_kws, size)\u001b[0m\n\u001b[1;32m   2124\u001b[0m diag_kws\u001b[38;5;241m.\u001b[39msetdefault(\u001b[38;5;124m\"\u001b[39m\u001b[38;5;124mlegend\u001b[39m\u001b[38;5;124m\"\u001b[39m, \u001b[38;5;28;01mFalse\u001b[39;00m)\n\u001b[1;32m   2125\u001b[0m \u001b[38;5;28;01mif\u001b[39;00m diag_kind \u001b[38;5;241m==\u001b[39m \u001b[38;5;124m\"\u001b[39m\u001b[38;5;124mhist\u001b[39m\u001b[38;5;124m\"\u001b[39m:\n\u001b[0;32m-> 2126\u001b[0m     \u001b[43mgrid\u001b[49m\u001b[38;5;241;43m.\u001b[39;49m\u001b[43mmap_diag\u001b[49m\u001b[43m(\u001b[49m\u001b[43mhistplot\u001b[49m\u001b[43m,\u001b[49m\u001b[43m \u001b[49m\u001b[38;5;241;43m*\u001b[39;49m\u001b[38;5;241;43m*\u001b[39;49m\u001b[43mdiag_kws\u001b[49m\u001b[43m)\u001b[49m\n\u001b[1;32m   2127\u001b[0m \u001b[38;5;28;01melif\u001b[39;00m diag_kind \u001b[38;5;241m==\u001b[39m \u001b[38;5;124m\"\u001b[39m\u001b[38;5;124mkde\u001b[39m\u001b[38;5;124m\"\u001b[39m:\n\u001b[1;32m   2128\u001b[0m     diag_kws\u001b[38;5;241m.\u001b[39msetdefault(\u001b[38;5;124m\"\u001b[39m\u001b[38;5;124mfill\u001b[39m\u001b[38;5;124m\"\u001b[39m, \u001b[38;5;28;01mTrue\u001b[39;00m)\n",
      "File \u001b[0;32m~/opt/miniconda3/envs/ml_hw/lib/python3.10/site-packages/seaborn/axisgrid.py:1478\u001b[0m, in \u001b[0;36mPairGrid.map_diag\u001b[0;34m(self, func, **kwargs)\u001b[0m\n\u001b[1;32m   1476\u001b[0m     plot_kwargs\u001b[38;5;241m.\u001b[39msetdefault(\u001b[38;5;124m\"\u001b[39m\u001b[38;5;124mhue_order\u001b[39m\u001b[38;5;124m\"\u001b[39m, \u001b[38;5;28mself\u001b[39m\u001b[38;5;241m.\u001b[39m_hue_order)\n\u001b[1;32m   1477\u001b[0m     plot_kwargs\u001b[38;5;241m.\u001b[39msetdefault(\u001b[38;5;124m\"\u001b[39m\u001b[38;5;124mpalette\u001b[39m\u001b[38;5;124m\"\u001b[39m, \u001b[38;5;28mself\u001b[39m\u001b[38;5;241m.\u001b[39m_orig_palette)\n\u001b[0;32m-> 1478\u001b[0m     \u001b[43mfunc\u001b[49m\u001b[43m(\u001b[49m\u001b[43mx\u001b[49m\u001b[38;5;241;43m=\u001b[39;49m\u001b[43mvector\u001b[49m\u001b[43m,\u001b[49m\u001b[43m \u001b[49m\u001b[38;5;241;43m*\u001b[39;49m\u001b[38;5;241;43m*\u001b[39;49m\u001b[43mplot_kwargs\u001b[49m\u001b[43m)\u001b[49m\n\u001b[1;32m   1479\u001b[0m     ax\u001b[38;5;241m.\u001b[39mlegend_ \u001b[38;5;241m=\u001b[39m \u001b[38;5;28;01mNone\u001b[39;00m\n\u001b[1;32m   1481\u001b[0m \u001b[38;5;28mself\u001b[39m\u001b[38;5;241m.\u001b[39m_add_axis_labels()\n",
      "File \u001b[0;32m~/opt/miniconda3/envs/ml_hw/lib/python3.10/site-packages/seaborn/distributions.py:1462\u001b[0m, in \u001b[0;36mhistplot\u001b[0;34m(data, x, y, hue, weights, stat, bins, binwidth, binrange, discrete, cumulative, common_bins, common_norm, multiple, element, fill, shrink, kde, kde_kws, line_kws, thresh, pthresh, pmax, cbar, cbar_ax, cbar_kws, palette, hue_order, hue_norm, color, log_scale, legend, ax, **kwargs)\u001b[0m\n\u001b[1;32m   1451\u001b[0m estimate_kws \u001b[38;5;241m=\u001b[39m \u001b[38;5;28mdict\u001b[39m(\n\u001b[1;32m   1452\u001b[0m     stat\u001b[38;5;241m=\u001b[39mstat,\n\u001b[1;32m   1453\u001b[0m     bins\u001b[38;5;241m=\u001b[39mbins,\n\u001b[0;32m   (...)\u001b[0m\n\u001b[1;32m   1457\u001b[0m     cumulative\u001b[38;5;241m=\u001b[39mcumulative,\n\u001b[1;32m   1458\u001b[0m )\n\u001b[1;32m   1460\u001b[0m \u001b[38;5;28;01mif\u001b[39;00m p\u001b[38;5;241m.\u001b[39munivariate:\n\u001b[0;32m-> 1462\u001b[0m     \u001b[43mp\u001b[49m\u001b[38;5;241;43m.\u001b[39;49m\u001b[43mplot_univariate_histogram\u001b[49m\u001b[43m(\u001b[49m\n\u001b[1;32m   1463\u001b[0m \u001b[43m        \u001b[49m\u001b[43mmultiple\u001b[49m\u001b[38;5;241;43m=\u001b[39;49m\u001b[43mmultiple\u001b[49m\u001b[43m,\u001b[49m\n\u001b[1;32m   1464\u001b[0m \u001b[43m        \u001b[49m\u001b[43melement\u001b[49m\u001b[38;5;241;43m=\u001b[39;49m\u001b[43melement\u001b[49m\u001b[43m,\u001b[49m\n\u001b[1;32m   1465\u001b[0m \u001b[43m        \u001b[49m\u001b[43mfill\u001b[49m\u001b[38;5;241;43m=\u001b[39;49m\u001b[43mfill\u001b[49m\u001b[43m,\u001b[49m\n\u001b[1;32m   1466\u001b[0m \u001b[43m        \u001b[49m\u001b[43mshrink\u001b[49m\u001b[38;5;241;43m=\u001b[39;49m\u001b[43mshrink\u001b[49m\u001b[43m,\u001b[49m\n\u001b[1;32m   1467\u001b[0m \u001b[43m        \u001b[49m\u001b[43mcommon_norm\u001b[49m\u001b[38;5;241;43m=\u001b[39;49m\u001b[43mcommon_norm\u001b[49m\u001b[43m,\u001b[49m\n\u001b[1;32m   1468\u001b[0m \u001b[43m        \u001b[49m\u001b[43mcommon_bins\u001b[49m\u001b[38;5;241;43m=\u001b[39;49m\u001b[43mcommon_bins\u001b[49m\u001b[43m,\u001b[49m\n\u001b[1;32m   1469\u001b[0m \u001b[43m        \u001b[49m\u001b[43mkde\u001b[49m\u001b[38;5;241;43m=\u001b[39;49m\u001b[43mkde\u001b[49m\u001b[43m,\u001b[49m\n\u001b[1;32m   1470\u001b[0m \u001b[43m        \u001b[49m\u001b[43mkde_kws\u001b[49m\u001b[38;5;241;43m=\u001b[39;49m\u001b[43mkde_kws\u001b[49m\u001b[43m,\u001b[49m\n\u001b[1;32m   1471\u001b[0m \u001b[43m        \u001b[49m\u001b[43mcolor\u001b[49m\u001b[38;5;241;43m=\u001b[39;49m\u001b[43mcolor\u001b[49m\u001b[43m,\u001b[49m\n\u001b[1;32m   1472\u001b[0m \u001b[43m        \u001b[49m\u001b[43mlegend\u001b[49m\u001b[38;5;241;43m=\u001b[39;49m\u001b[43mlegend\u001b[49m\u001b[43m,\u001b[49m\n\u001b[1;32m   1473\u001b[0m \u001b[43m        \u001b[49m\u001b[43mestimate_kws\u001b[49m\u001b[38;5;241;43m=\u001b[39;49m\u001b[43mestimate_kws\u001b[49m\u001b[43m,\u001b[49m\n\u001b[1;32m   1474\u001b[0m \u001b[43m        \u001b[49m\u001b[43mline_kws\u001b[49m\u001b[38;5;241;43m=\u001b[39;49m\u001b[43mline_kws\u001b[49m\u001b[43m,\u001b[49m\n\u001b[1;32m   1475\u001b[0m \u001b[43m        \u001b[49m\u001b[38;5;241;43m*\u001b[39;49m\u001b[38;5;241;43m*\u001b[39;49m\u001b[43mkwargs\u001b[49m\u001b[43m,\u001b[49m\n\u001b[1;32m   1476\u001b[0m \u001b[43m    \u001b[49m\u001b[43m)\u001b[49m\n\u001b[1;32m   1478\u001b[0m \u001b[38;5;28;01melse\u001b[39;00m:\n\u001b[1;32m   1480\u001b[0m     p\u001b[38;5;241m.\u001b[39mplot_bivariate_histogram(\n\u001b[1;32m   1481\u001b[0m         common_bins\u001b[38;5;241m=\u001b[39mcommon_bins,\n\u001b[1;32m   1482\u001b[0m         common_norm\u001b[38;5;241m=\u001b[39mcommon_norm,\n\u001b[0;32m   (...)\u001b[0m\n\u001b[1;32m   1492\u001b[0m         \u001b[38;5;241m*\u001b[39m\u001b[38;5;241m*\u001b[39mkwargs,\n\u001b[1;32m   1493\u001b[0m     )\n",
      "File \u001b[0;32m~/opt/miniconda3/envs/ml_hw/lib/python3.10/site-packages/seaborn/distributions.py:428\u001b[0m, in \u001b[0;36m_DistributionPlotter.plot_univariate_histogram\u001b[0;34m(self, multiple, element, fill, common_norm, common_bins, shrink, kde, kde_kws, color, legend, line_kws, estimate_kws, **plot_kws)\u001b[0m\n\u001b[1;32m    418\u001b[0m     densities \u001b[38;5;241m=\u001b[39m \u001b[38;5;28mself\u001b[39m\u001b[38;5;241m.\u001b[39m_compute_univariate_density(\n\u001b[1;32m    419\u001b[0m         \u001b[38;5;28mself\u001b[39m\u001b[38;5;241m.\u001b[39mdata_variable,\n\u001b[1;32m    420\u001b[0m         common_norm,\n\u001b[0;32m   (...)\u001b[0m\n\u001b[1;32m    424\u001b[0m         warn_singular\u001b[38;5;241m=\u001b[39m\u001b[38;5;28;01mFalse\u001b[39;00m,\n\u001b[1;32m    425\u001b[0m     )\n\u001b[1;32m    427\u001b[0m \u001b[38;5;66;03m# First pass through the data to compute the histograms\u001b[39;00m\n\u001b[0;32m--> 428\u001b[0m \u001b[38;5;28;01mfor\u001b[39;00m sub_vars, sub_data \u001b[38;5;129;01min\u001b[39;00m \u001b[38;5;28mself\u001b[39m\u001b[38;5;241m.\u001b[39miter_data(\u001b[38;5;124m\"\u001b[39m\u001b[38;5;124mhue\u001b[39m\u001b[38;5;124m\"\u001b[39m, from_comp_data\u001b[38;5;241m=\u001b[39m\u001b[38;5;28;01mTrue\u001b[39;00m):\n\u001b[1;32m    429\u001b[0m \n\u001b[1;32m    430\u001b[0m     \u001b[38;5;66;03m# Prepare the relevant data\u001b[39;00m\n\u001b[1;32m    431\u001b[0m     key \u001b[38;5;241m=\u001b[39m \u001b[38;5;28mtuple\u001b[39m(sub_vars\u001b[38;5;241m.\u001b[39mitems())\n\u001b[1;32m    432\u001b[0m     sub_data \u001b[38;5;241m=\u001b[39m sub_data\u001b[38;5;241m.\u001b[39mdropna()\n",
      "File \u001b[0;32m~/opt/miniconda3/envs/ml_hw/lib/python3.10/site-packages/seaborn/_core.py:983\u001b[0m, in \u001b[0;36mVectorPlotter.iter_data\u001b[0;34m(self, grouping_vars, reverse, from_comp_data)\u001b[0m\n\u001b[1;32m    978\u001b[0m grouping_vars \u001b[38;5;241m=\u001b[39m [\n\u001b[1;32m    979\u001b[0m     var \u001b[38;5;28;01mfor\u001b[39;00m var \u001b[38;5;129;01min\u001b[39;00m grouping_vars \u001b[38;5;28;01mif\u001b[39;00m var \u001b[38;5;129;01min\u001b[39;00m \u001b[38;5;28mself\u001b[39m\u001b[38;5;241m.\u001b[39mvariables\n\u001b[1;32m    980\u001b[0m ]\n\u001b[1;32m    982\u001b[0m \u001b[38;5;28;01mif\u001b[39;00m from_comp_data:\n\u001b[0;32m--> 983\u001b[0m     data \u001b[38;5;241m=\u001b[39m \u001b[38;5;28;43mself\u001b[39;49m\u001b[38;5;241;43m.\u001b[39;49m\u001b[43mcomp_data\u001b[49m\n\u001b[1;32m    984\u001b[0m \u001b[38;5;28;01melse\u001b[39;00m:\n\u001b[1;32m    985\u001b[0m     data \u001b[38;5;241m=\u001b[39m \u001b[38;5;28mself\u001b[39m\u001b[38;5;241m.\u001b[39mplot_data\n",
      "File \u001b[0;32m~/opt/miniconda3/envs/ml_hw/lib/python3.10/site-packages/seaborn/_core.py:1057\u001b[0m, in \u001b[0;36mVectorPlotter.comp_data\u001b[0;34m(self)\u001b[0m\n\u001b[1;32m   1055\u001b[0m     orig \u001b[38;5;241m=\u001b[39m \u001b[38;5;28mself\u001b[39m\u001b[38;5;241m.\u001b[39mplot_data[var]\u001b[38;5;241m.\u001b[39mdropna()\n\u001b[1;32m   1056\u001b[0m comp_col \u001b[38;5;241m=\u001b[39m pd\u001b[38;5;241m.\u001b[39mSeries(index\u001b[38;5;241m=\u001b[39morig\u001b[38;5;241m.\u001b[39mindex, dtype\u001b[38;5;241m=\u001b[39m\u001b[38;5;28mfloat\u001b[39m, name\u001b[38;5;241m=\u001b[39mvar)\n\u001b[0;32m-> 1057\u001b[0m comp_col\u001b[38;5;241m.\u001b[39mloc[orig\u001b[38;5;241m.\u001b[39mindex] \u001b[38;5;241m=\u001b[39m pd\u001b[38;5;241m.\u001b[39mto_numeric(axis\u001b[38;5;241m.\u001b[39mconvert_units(orig))\n\u001b[1;32m   1059\u001b[0m \u001b[38;5;28;01mif\u001b[39;00m axis\u001b[38;5;241m.\u001b[39mget_scale() \u001b[38;5;241m==\u001b[39m \u001b[38;5;124m\"\u001b[39m\u001b[38;5;124mlog\u001b[39m\u001b[38;5;124m\"\u001b[39m:\n\u001b[1;32m   1060\u001b[0m     comp_col \u001b[38;5;241m=\u001b[39m np\u001b[38;5;241m.\u001b[39mlog10(comp_col)\n",
      "File \u001b[0;32m~/opt/miniconda3/envs/ml_hw/lib/python3.10/site-packages/pandas/core/indexing.py:716\u001b[0m, in \u001b[0;36m_LocationIndexer.__setitem__\u001b[0;34m(self, key, value)\u001b[0m\n\u001b[1;32m    713\u001b[0m \u001b[38;5;28mself\u001b[39m\u001b[38;5;241m.\u001b[39m_has_valid_setitem_indexer(key)\n\u001b[1;32m    715\u001b[0m iloc \u001b[38;5;241m=\u001b[39m \u001b[38;5;28mself\u001b[39m \u001b[38;5;28;01mif\u001b[39;00m \u001b[38;5;28mself\u001b[39m\u001b[38;5;241m.\u001b[39mname \u001b[38;5;241m==\u001b[39m \u001b[38;5;124m\"\u001b[39m\u001b[38;5;124miloc\u001b[39m\u001b[38;5;124m\"\u001b[39m \u001b[38;5;28;01melse\u001b[39;00m \u001b[38;5;28mself\u001b[39m\u001b[38;5;241m.\u001b[39mobj\u001b[38;5;241m.\u001b[39miloc\n\u001b[0;32m--> 716\u001b[0m \u001b[43miloc\u001b[49m\u001b[38;5;241;43m.\u001b[39;49m\u001b[43m_setitem_with_indexer\u001b[49m\u001b[43m(\u001b[49m\u001b[43mindexer\u001b[49m\u001b[43m,\u001b[49m\u001b[43m \u001b[49m\u001b[43mvalue\u001b[49m\u001b[43m,\u001b[49m\u001b[43m \u001b[49m\u001b[38;5;28;43mself\u001b[39;49m\u001b[38;5;241;43m.\u001b[39;49m\u001b[43mname\u001b[49m\u001b[43m)\u001b[49m\n",
      "File \u001b[0;32m~/opt/miniconda3/envs/ml_hw/lib/python3.10/site-packages/pandas/core/indexing.py:1690\u001b[0m, in \u001b[0;36m_iLocIndexer._setitem_with_indexer\u001b[0;34m(self, indexer, value, name)\u001b[0m\n\u001b[1;32m   1688\u001b[0m     \u001b[38;5;28mself\u001b[39m\u001b[38;5;241m.\u001b[39m_setitem_with_indexer_split_path(indexer, value, name)\n\u001b[1;32m   1689\u001b[0m \u001b[38;5;28;01melse\u001b[39;00m:\n\u001b[0;32m-> 1690\u001b[0m     \u001b[38;5;28;43mself\u001b[39;49m\u001b[38;5;241;43m.\u001b[39;49m\u001b[43m_setitem_single_block\u001b[49m\u001b[43m(\u001b[49m\u001b[43mindexer\u001b[49m\u001b[43m,\u001b[49m\u001b[43m \u001b[49m\u001b[43mvalue\u001b[49m\u001b[43m,\u001b[49m\u001b[43m \u001b[49m\u001b[43mname\u001b[49m\u001b[43m)\u001b[49m\n",
      "File \u001b[0;32m~/opt/miniconda3/envs/ml_hw/lib/python3.10/site-packages/pandas/core/indexing.py:1929\u001b[0m, in \u001b[0;36m_iLocIndexer._setitem_single_block\u001b[0;34m(self, indexer, value, name)\u001b[0m\n\u001b[1;32m   1923\u001b[0m     indexer \u001b[38;5;241m=\u001b[39m maybe_convert_ix(\u001b[38;5;241m*\u001b[39mindexer)  \u001b[38;5;66;03m# e.g. test_setitem_frame_align\u001b[39;00m\n\u001b[1;32m   1925\u001b[0m \u001b[38;5;28;01mif\u001b[39;00m (\u001b[38;5;28misinstance\u001b[39m(value, ABCSeries) \u001b[38;5;129;01mand\u001b[39;00m name \u001b[38;5;241m!=\u001b[39m \u001b[38;5;124m\"\u001b[39m\u001b[38;5;124miloc\u001b[39m\u001b[38;5;124m\"\u001b[39m) \u001b[38;5;129;01mor\u001b[39;00m \u001b[38;5;28misinstance\u001b[39m(value, \u001b[38;5;28mdict\u001b[39m):\n\u001b[1;32m   1926\u001b[0m     \u001b[38;5;66;03m# TODO(EA): ExtensionBlock.setitem this causes issues with\u001b[39;00m\n\u001b[1;32m   1927\u001b[0m     \u001b[38;5;66;03m# setting for extensionarrays that store dicts. Need to decide\u001b[39;00m\n\u001b[1;32m   1928\u001b[0m     \u001b[38;5;66;03m# if it's worth supporting that.\u001b[39;00m\n\u001b[0;32m-> 1929\u001b[0m     value \u001b[38;5;241m=\u001b[39m \u001b[38;5;28;43mself\u001b[39;49m\u001b[38;5;241;43m.\u001b[39;49m\u001b[43m_align_series\u001b[49m\u001b[43m(\u001b[49m\u001b[43mindexer\u001b[49m\u001b[43m,\u001b[49m\u001b[43m \u001b[49m\u001b[43mSeries\u001b[49m\u001b[43m(\u001b[49m\u001b[43mvalue\u001b[49m\u001b[43m)\u001b[49m\u001b[43m)\u001b[49m\n\u001b[1;32m   1931\u001b[0m \u001b[38;5;28;01melif\u001b[39;00m \u001b[38;5;28misinstance\u001b[39m(value, ABCDataFrame) \u001b[38;5;129;01mand\u001b[39;00m name \u001b[38;5;241m!=\u001b[39m \u001b[38;5;124m\"\u001b[39m\u001b[38;5;124miloc\u001b[39m\u001b[38;5;124m\"\u001b[39m:\n\u001b[1;32m   1932\u001b[0m     value \u001b[38;5;241m=\u001b[39m \u001b[38;5;28mself\u001b[39m\u001b[38;5;241m.\u001b[39m_align_frame(indexer, value)\n",
      "File \u001b[0;32m~/opt/miniconda3/envs/ml_hw/lib/python3.10/site-packages/pandas/core/indexing.py:2091\u001b[0m, in \u001b[0;36m_iLocIndexer._align_series\u001b[0;34m(self, indexer, ser, multiindex_indexer)\u001b[0m\n\u001b[1;32m   2089\u001b[0m \u001b[38;5;28;01mif\u001b[39;00m obj\u001b[38;5;241m.\u001b[39mndim \u001b[38;5;241m==\u001b[39m \u001b[38;5;241m2\u001b[39m \u001b[38;5;129;01mand\u001b[39;00m is_empty_indexer(indexer[\u001b[38;5;241m0\u001b[39m], ser\u001b[38;5;241m.\u001b[39m_values):\n\u001b[1;32m   2090\u001b[0m     \u001b[38;5;28;01mreturn\u001b[39;00m ser\u001b[38;5;241m.\u001b[39m_values\u001b[38;5;241m.\u001b[39mcopy()\n\u001b[0;32m-> 2091\u001b[0m ser \u001b[38;5;241m=\u001b[39m \u001b[43mser\u001b[49m\u001b[38;5;241;43m.\u001b[39;49m\u001b[43mreindex\u001b[49m\u001b[43m(\u001b[49m\u001b[43mobj\u001b[49m\u001b[38;5;241;43m.\u001b[39;49m\u001b[43maxes\u001b[49m\u001b[43m[\u001b[49m\u001b[38;5;241;43m0\u001b[39;49m\u001b[43m]\u001b[49m\u001b[43m[\u001b[49m\u001b[43mindexer\u001b[49m\u001b[43m[\u001b[49m\u001b[38;5;241;43m0\u001b[39;49m\u001b[43m]\u001b[49m\u001b[43m]\u001b[49m\u001b[43m,\u001b[49m\u001b[43m \u001b[49m\u001b[43mcopy\u001b[49m\u001b[38;5;241;43m=\u001b[39;49m\u001b[38;5;28;43;01mTrue\u001b[39;49;00m\u001b[43m)\u001b[49m\u001b[38;5;241m.\u001b[39m_values\n\u001b[1;32m   2093\u001b[0m \u001b[38;5;66;03m# single indexer\u001b[39;00m\n\u001b[1;32m   2094\u001b[0m \u001b[38;5;28;01mif\u001b[39;00m \u001b[38;5;28mlen\u001b[39m(indexer) \u001b[38;5;241m>\u001b[39m \u001b[38;5;241m1\u001b[39m \u001b[38;5;129;01mand\u001b[39;00m \u001b[38;5;129;01mnot\u001b[39;00m multiindex_indexer:\n",
      "File \u001b[0;32m~/opt/miniconda3/envs/ml_hw/lib/python3.10/site-packages/pandas/core/series.py:4672\u001b[0m, in \u001b[0;36mSeries.reindex\u001b[0;34m(self, *args, **kwargs)\u001b[0m\n\u001b[1;32m   4668\u001b[0m         \u001b[38;5;28;01mraise\u001b[39;00m \u001b[38;5;167;01mTypeError\u001b[39;00m(\n\u001b[1;32m   4669\u001b[0m             \u001b[38;5;124m\"\u001b[39m\u001b[38;5;124m'\u001b[39m\u001b[38;5;124mindex\u001b[39m\u001b[38;5;124m'\u001b[39m\u001b[38;5;124m passed as both positional and keyword argument\u001b[39m\u001b[38;5;124m\"\u001b[39m\n\u001b[1;32m   4670\u001b[0m         )\n\u001b[1;32m   4671\u001b[0m     kwargs\u001b[38;5;241m.\u001b[39mupdate({\u001b[38;5;124m\"\u001b[39m\u001b[38;5;124mindex\u001b[39m\u001b[38;5;124m\"\u001b[39m: index})\n\u001b[0;32m-> 4672\u001b[0m \u001b[38;5;28;01mreturn\u001b[39;00m \u001b[38;5;28;43msuper\u001b[39;49m\u001b[43m(\u001b[49m\u001b[43m)\u001b[49m\u001b[38;5;241;43m.\u001b[39;49m\u001b[43mreindex\u001b[49m\u001b[43m(\u001b[49m\u001b[38;5;241;43m*\u001b[39;49m\u001b[38;5;241;43m*\u001b[39;49m\u001b[43mkwargs\u001b[49m\u001b[43m)\u001b[49m\n",
      "File \u001b[0;32m~/opt/miniconda3/envs/ml_hw/lib/python3.10/site-packages/pandas/core/generic.py:4966\u001b[0m, in \u001b[0;36mNDFrame.reindex\u001b[0;34m(self, *args, **kwargs)\u001b[0m\n\u001b[1;32m   4963\u001b[0m     \u001b[38;5;28;01mreturn\u001b[39;00m \u001b[38;5;28mself\u001b[39m\u001b[38;5;241m.\u001b[39m_reindex_multi(axes, copy, fill_value)\n\u001b[1;32m   4965\u001b[0m \u001b[38;5;66;03m# perform the reindex on the axes\u001b[39;00m\n\u001b[0;32m-> 4966\u001b[0m \u001b[38;5;28;01mreturn\u001b[39;00m \u001b[38;5;28;43mself\u001b[39;49m\u001b[38;5;241;43m.\u001b[39;49m\u001b[43m_reindex_axes\u001b[49m\u001b[43m(\u001b[49m\n\u001b[1;32m   4967\u001b[0m \u001b[43m    \u001b[49m\u001b[43maxes\u001b[49m\u001b[43m,\u001b[49m\u001b[43m \u001b[49m\u001b[43mlevel\u001b[49m\u001b[43m,\u001b[49m\u001b[43m \u001b[49m\u001b[43mlimit\u001b[49m\u001b[43m,\u001b[49m\u001b[43m \u001b[49m\u001b[43mtolerance\u001b[49m\u001b[43m,\u001b[49m\u001b[43m \u001b[49m\u001b[43mmethod\u001b[49m\u001b[43m,\u001b[49m\u001b[43m \u001b[49m\u001b[43mfill_value\u001b[49m\u001b[43m,\u001b[49m\u001b[43m \u001b[49m\u001b[43mcopy\u001b[49m\n\u001b[1;32m   4968\u001b[0m \u001b[43m\u001b[49m\u001b[43m)\u001b[49m\u001b[38;5;241m.\u001b[39m__finalize__(\u001b[38;5;28mself\u001b[39m, method\u001b[38;5;241m=\u001b[39m\u001b[38;5;124m\"\u001b[39m\u001b[38;5;124mreindex\u001b[39m\u001b[38;5;124m\"\u001b[39m)\n",
      "File \u001b[0;32m~/opt/miniconda3/envs/ml_hw/lib/python3.10/site-packages/pandas/core/generic.py:4986\u001b[0m, in \u001b[0;36mNDFrame._reindex_axes\u001b[0;34m(self, axes, level, limit, tolerance, method, fill_value, copy)\u001b[0m\n\u001b[1;32m   4981\u001b[0m new_index, indexer \u001b[38;5;241m=\u001b[39m ax\u001b[38;5;241m.\u001b[39mreindex(\n\u001b[1;32m   4982\u001b[0m     labels, level\u001b[38;5;241m=\u001b[39mlevel, limit\u001b[38;5;241m=\u001b[39mlimit, tolerance\u001b[38;5;241m=\u001b[39mtolerance, method\u001b[38;5;241m=\u001b[39mmethod\n\u001b[1;32m   4983\u001b[0m )\n\u001b[1;32m   4985\u001b[0m axis \u001b[38;5;241m=\u001b[39m \u001b[38;5;28mself\u001b[39m\u001b[38;5;241m.\u001b[39m_get_axis_number(a)\n\u001b[0;32m-> 4986\u001b[0m obj \u001b[38;5;241m=\u001b[39m \u001b[43mobj\u001b[49m\u001b[38;5;241;43m.\u001b[39;49m\u001b[43m_reindex_with_indexers\u001b[49m\u001b[43m(\u001b[49m\n\u001b[1;32m   4987\u001b[0m \u001b[43m    \u001b[49m\u001b[43m{\u001b[49m\u001b[43maxis\u001b[49m\u001b[43m:\u001b[49m\u001b[43m \u001b[49m\u001b[43m[\u001b[49m\u001b[43mnew_index\u001b[49m\u001b[43m,\u001b[49m\u001b[43m \u001b[49m\u001b[43mindexer\u001b[49m\u001b[43m]\u001b[49m\u001b[43m}\u001b[49m\u001b[43m,\u001b[49m\n\u001b[1;32m   4988\u001b[0m \u001b[43m    \u001b[49m\u001b[43mfill_value\u001b[49m\u001b[38;5;241;43m=\u001b[39;49m\u001b[43mfill_value\u001b[49m\u001b[43m,\u001b[49m\n\u001b[1;32m   4989\u001b[0m \u001b[43m    \u001b[49m\u001b[43mcopy\u001b[49m\u001b[38;5;241;43m=\u001b[39;49m\u001b[43mcopy\u001b[49m\u001b[43m,\u001b[49m\n\u001b[1;32m   4990\u001b[0m \u001b[43m    \u001b[49m\u001b[43mallow_dups\u001b[49m\u001b[38;5;241;43m=\u001b[39;49m\u001b[38;5;28;43;01mFalse\u001b[39;49;00m\u001b[43m,\u001b[49m\n\u001b[1;32m   4991\u001b[0m \u001b[43m\u001b[49m\u001b[43m)\u001b[49m\n\u001b[1;32m   4992\u001b[0m \u001b[38;5;66;03m# If we've made a copy once, no need to make another one\u001b[39;00m\n\u001b[1;32m   4993\u001b[0m copy \u001b[38;5;241m=\u001b[39m \u001b[38;5;28;01mFalse\u001b[39;00m\n",
      "File \u001b[0;32m~/opt/miniconda3/envs/ml_hw/lib/python3.10/site-packages/pandas/core/generic.py:5032\u001b[0m, in \u001b[0;36mNDFrame._reindex_with_indexers\u001b[0;34m(self, reindexers, fill_value, copy, allow_dups)\u001b[0m\n\u001b[1;32m   5029\u001b[0m     indexer \u001b[38;5;241m=\u001b[39m ensure_platform_int(indexer)\n\u001b[1;32m   5031\u001b[0m \u001b[38;5;66;03m# TODO: speed up on homogeneous DataFrame objects (see _reindex_multi)\u001b[39;00m\n\u001b[0;32m-> 5032\u001b[0m new_data \u001b[38;5;241m=\u001b[39m \u001b[43mnew_data\u001b[49m\u001b[38;5;241;43m.\u001b[39;49m\u001b[43mreindex_indexer\u001b[49m\u001b[43m(\u001b[49m\n\u001b[1;32m   5033\u001b[0m \u001b[43m    \u001b[49m\u001b[43mindex\u001b[49m\u001b[43m,\u001b[49m\n\u001b[1;32m   5034\u001b[0m \u001b[43m    \u001b[49m\u001b[43mindexer\u001b[49m\u001b[43m,\u001b[49m\n\u001b[1;32m   5035\u001b[0m \u001b[43m    \u001b[49m\u001b[43maxis\u001b[49m\u001b[38;5;241;43m=\u001b[39;49m\u001b[43mbaxis\u001b[49m\u001b[43m,\u001b[49m\n\u001b[1;32m   5036\u001b[0m \u001b[43m    \u001b[49m\u001b[43mfill_value\u001b[49m\u001b[38;5;241;43m=\u001b[39;49m\u001b[43mfill_value\u001b[49m\u001b[43m,\u001b[49m\n\u001b[1;32m   5037\u001b[0m \u001b[43m    \u001b[49m\u001b[43mallow_dups\u001b[49m\u001b[38;5;241;43m=\u001b[39;49m\u001b[43mallow_dups\u001b[49m\u001b[43m,\u001b[49m\n\u001b[1;32m   5038\u001b[0m \u001b[43m    \u001b[49m\u001b[43mcopy\u001b[49m\u001b[38;5;241;43m=\u001b[39;49m\u001b[43mcopy\u001b[49m\u001b[43m,\u001b[49m\n\u001b[1;32m   5039\u001b[0m \u001b[43m\u001b[49m\u001b[43m)\u001b[49m\n\u001b[1;32m   5040\u001b[0m \u001b[38;5;66;03m# If we've made a copy once, no need to make another one\u001b[39;00m\n\u001b[1;32m   5041\u001b[0m copy \u001b[38;5;241m=\u001b[39m \u001b[38;5;28;01mFalse\u001b[39;00m\n",
      "File \u001b[0;32m~/opt/miniconda3/envs/ml_hw/lib/python3.10/site-packages/pandas/core/internals/managers.py:679\u001b[0m, in \u001b[0;36mBaseBlockManager.reindex_indexer\u001b[0;34m(self, new_axis, indexer, axis, fill_value, allow_dups, copy, consolidate, only_slice, use_na_proxy)\u001b[0m\n\u001b[1;32m    677\u001b[0m \u001b[38;5;66;03m# some axes don't allow reindexing with dups\u001b[39;00m\n\u001b[1;32m    678\u001b[0m \u001b[38;5;28;01mif\u001b[39;00m \u001b[38;5;129;01mnot\u001b[39;00m allow_dups:\n\u001b[0;32m--> 679\u001b[0m     \u001b[38;5;28;43mself\u001b[39;49m\u001b[38;5;241;43m.\u001b[39;49m\u001b[43maxes\u001b[49m\u001b[43m[\u001b[49m\u001b[43maxis\u001b[49m\u001b[43m]\u001b[49m\u001b[38;5;241;43m.\u001b[39;49m\u001b[43m_validate_can_reindex\u001b[49m\u001b[43m(\u001b[49m\u001b[43mindexer\u001b[49m\u001b[43m)\u001b[49m\n\u001b[1;32m    681\u001b[0m \u001b[38;5;28;01mif\u001b[39;00m axis \u001b[38;5;241m>\u001b[39m\u001b[38;5;241m=\u001b[39m \u001b[38;5;28mself\u001b[39m\u001b[38;5;241m.\u001b[39mndim:\n\u001b[1;32m    682\u001b[0m     \u001b[38;5;28;01mraise\u001b[39;00m \u001b[38;5;167;01mIndexError\u001b[39;00m(\u001b[38;5;124m\"\u001b[39m\u001b[38;5;124mRequested axis not found in manager\u001b[39m\u001b[38;5;124m\"\u001b[39m)\n",
      "File \u001b[0;32m~/opt/miniconda3/envs/ml_hw/lib/python3.10/site-packages/pandas/core/indexes/base.py:4107\u001b[0m, in \u001b[0;36mIndex._validate_can_reindex\u001b[0;34m(self, indexer)\u001b[0m\n\u001b[1;32m   4105\u001b[0m \u001b[38;5;66;03m# trying to reindex on an axis with duplicates\u001b[39;00m\n\u001b[1;32m   4106\u001b[0m \u001b[38;5;28;01mif\u001b[39;00m \u001b[38;5;129;01mnot\u001b[39;00m \u001b[38;5;28mself\u001b[39m\u001b[38;5;241m.\u001b[39m_index_as_unique \u001b[38;5;129;01mand\u001b[39;00m \u001b[38;5;28mlen\u001b[39m(indexer):\n\u001b[0;32m-> 4107\u001b[0m     \u001b[38;5;28;01mraise\u001b[39;00m \u001b[38;5;167;01mValueError\u001b[39;00m(\u001b[38;5;124m\"\u001b[39m\u001b[38;5;124mcannot reindex on an axis with duplicate labels\u001b[39m\u001b[38;5;124m\"\u001b[39m)\n",
      "\u001b[0;31mValueError\u001b[0m: cannot reindex on an axis with duplicate labels"
     ]
    },
    {
     "data": {
      "image/png": "[encoded data removed]",
      "text/plain": [
       "<Figure size 540x540 with 12 Axes>"
      ]
     },
     "metadata": {},
     "output_type": "display_data"
    }
   ],
   "source": [
    "atl_data_plusone = atl_data\n",
    "atl_data_plusone[\"random\"] = np.random.randint(1, 50, atl_data.shape[0])\n",
    "atl_data_plusone\n",
    "\n",
    "sns.set(style=\"whitegrid\")\n",
    "sns.set(rc={'figure.figsize':(20,10)})\n",
    "sns.pairplot(atl_data_plusone)"
   ]
  },
  {
   "cell_type": "markdown",
   "metadata": {},
   "source": [
    "(b) For year 1985 and for each team, plot a boxplot to show how the salary distribute within a team."
   ]
  },
  {
   "cell_type": "code",
   "execution_count": 165,
   "metadata": {},
   "outputs": [
    {
     "data": {
      "text/plain": [
       "<AxesSubplot:xlabel='teamID', ylabel='salary'>"
      ]
     },
     "execution_count": 165,
     "metadata": {},
     "output_type": "execute_result"
    },
    {
     "data": {
      "image/png": "[encoded data removed]",
      "text/plain": [
       "<Figure size 1440x720 with 1 Axes>"
      ]
     },
     "metadata": {},
     "output_type": "display_data"
    }
   ],
   "source": [
    "data_1985 = data[data[\"yearID\"]==1985]\n",
    "sns.set(style=\"whitegrid\")\n",
    "sns.set(rc={'figure.figsize':(20,10)})\n",
    "sns.boxplot(x='teamID', y='salary', data=data_1985)"
   ]
  },
  {
   "cell_type": "markdown",
   "metadata": {},
   "source": [
    "(c) Read the offical documentation (https://seaborn.pydata.org/) to understand how lmplot, catplot, relplot, and jointplot works."
   ]
  },
  {
   "cell_type": "markdown",
   "metadata": {},
   "source": [
    "### Jupyter Notebook"
   ]
  },
  {
   "cell_type": "markdown",
   "metadata": {},
   "source": [
    "#### Jupyter Notebook Extensions"
   ]
  },
  {
   "cell_type": "markdown",
   "metadata": {},
   "source": [
    "Extensions such as the code formatter, table of content is to make your development more efficient. To explore it, please refer to https://github.com/ipython-contrib/jupyter_contrib_nbextensions."
   ]
  },
  {
   "cell_type": "markdown",
   "metadata": {},
   "source": [
    "#### Jupyter Visual Debugger"
   ]
  },
  {
   "cell_type": "markdown",
   "metadata": {},
   "source": [
    "The Pixie Debugger is a visual debugger for debugging on Jupyter Notebook. To explore it, please refer to https://medium.com/codait/the-visual-python-debugger-for-jupyter-notebooks-youve-always-wanted-761713babc62."
   ]
  },
  {
   "cell_type": "markdown",
   "metadata": {},
   "source": [
    "### Git and GitHub"
   ]
  },
  {
   "cell_type": "markdown",
   "metadata": {},
   "source": [
    "1. In the directory that where this jupyter notebook file locates in, init a Git repository.\n",
    "2. Checkout a new branch called dev and commit the current notebook within this branch.\n",
    "3. Merge the dev branch to the master branch (the default branch).\n",
    "4. Create a temporary repository (just for practicing and you can delete it later) in GitHub. \n",
    "5. Push new changes in the master branch to the remote repository created in step 4.\n",
    "6. Checkout the dev branch again and do some changes to your notebook, and then repeat step 3 and step 5."
   ]
  },
  {
   "cell_type": "code",
   "execution_count": null,
   "metadata": {},
   "outputs": [],
   "source": []
  },
  {
   "cell_type": "code",
   "execution_count": null,
   "metadata": {},
   "outputs": [],
   "source": []
  },
  {
   "cell_type": "code",
   "execution_count": null,
   "metadata": {},
   "outputs": [],
   "source": []
  },
  {
   "cell_type": "code",
   "execution_count": null,
   "metadata": {},
   "outputs": [],
   "source": []
  },
  {
   "cell_type": "code",
   "execution_count": null,
   "metadata": {},
   "outputs": [],
   "source": []
  }
 ],
 "metadata": {
  "kernelspec": {
   "display_name": "Python 3 (ipykernel)",
   "language": "python",
   "name": "python3"
  },
  "language_info": {
   "codemirror_mode": {
    "name": "ipython",
    "version": 3
   },
   "file_extension": ".py",
   "mimetype": "text/x-python",
   "name": "python",
   "nbconvert_exporter": "python",
   "pygments_lexer": "ipython3",
   "version": "3.10.4"
  },
  "toc": {
   "base_numbering": 1,
   "nav_menu": {},
   "number_sections": true,
   "sideBar": true,
   "skip_h1_title": true,
   "title_cell": "Table of Contents",
   "title_sidebar": "Contents",
   "toc_cell": false,
   "toc_position": {
    "height": "calc(100% - 180px)",
    "left": "10px",
    "top": "150px",
    "width": "294.435px"
   },
   "toc_section_display": true,
   "toc_window_display": true
  }
 },
 "nbformat": 4,
 "nbformat_minor": 2
}
